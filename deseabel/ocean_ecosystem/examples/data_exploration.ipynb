{
 "cells": [
  {
   "cell_type": "code",
   "execution_count": 1,
   "id": "7e5ec19e",
   "metadata": {},
   "outputs": [],
   "source": [
    "import geojson\n",
    "from datetime import datetime\n",
    "import pandas as pd\n",
    "import requests"
   ]
  },
  {
   "cell_type": "code",
   "execution_count": null,
   "id": "000d18e0",
   "metadata": {
    "scrolled": true
   },
   "outputs": [],
   "source": [
    "pd.read_csv(\"../data/54152.csv\", encoding=\"latin-1\", sep=\";\")"
   ]
  },
  {
   "cell_type": "code",
   "execution_count": null,
   "id": "cfe081d1",
   "metadata": {},
   "outputs": [],
   "source": [
    "!ls"
   ]
  },
  {
   "cell_type": "code",
   "execution_count": null,
   "id": "f261bd18",
   "metadata": {},
   "outputs": [],
   "source": [
    "\n",
    "with open(\"../data/parcours_navir/CAMPAGNE_LIGNE.geojson\") as f:\n",
    "    gj = geojson.load(f)\n",
    "features = gj['features'][0]"
   ]
  },
  {
   "cell_type": "code",
   "execution_count": null,
   "id": "ada56319",
   "metadata": {},
   "outputs": [],
   "source": [
    "len(gj['features'])"
   ]
  },
  {
   "cell_type": "code",
   "execution_count": null,
   "id": "4aa06569",
   "metadata": {},
   "outputs": [],
   "source": [
    "# format\n",
    "format = '%Y-%m-%d'\n",
    "\n",
    "features = [x for x in gj[\"features\"] if datetime.strptime(x[\"properties\"][\"START_DATE\"], format).year == 2021]"
   ]
  },
  {
   "cell_type": "code",
   "execution_count": null,
   "id": "e4f246db",
   "metadata": {},
   "outputs": [],
   "source": [
    "gj[\"features\"][0][\"properties\"][\"START_DATE\"]"
   ]
  },
  {
   "cell_type": "code",
   "execution_count": null,
   "id": "77754e1a",
   "metadata": {},
   "outputs": [],
   "source": [
    "\n",
    "  \n",
    "# convert from string format to datetime format\n",
    "date = datetime.strptime(input, format)"
   ]
  },
  {
   "cell_type": "code",
   "execution_count": null,
   "id": "269c729a",
   "metadata": {},
   "outputs": [],
   "source": [
    "date.year == 2022"
   ]
  },
  {
   "cell_type": "code",
   "execution_count": null,
   "id": "ac7bd5c3",
   "metadata": {},
   "outputs": [],
   "source": [
    "gj.keys()"
   ]
  },
  {
   "cell_type": "code",
   "execution_count": null,
   "id": "e74f5b17",
   "metadata": {},
   "outputs": [],
   "source": [
    "with open(\"../data/emission_impulsive_forte_2016/DCSMM2018_D11C1.3.geojson\") as f:\n",
    "    gj = geojson.load(f)\n",
    "features = gj['features'][0]"
   ]
  },
  {
   "cell_type": "code",
   "execution_count": null,
   "id": "189dbce7",
   "metadata": {},
   "outputs": [],
   "source": [
    "gj['features'][500]"
   ]
  },
  {
   "cell_type": "code",
   "execution_count": null,
   "id": "c24a4b3a",
   "metadata": {},
   "outputs": [],
   "source": [
    "gj.keys()"
   ]
  },
  {
   "cell_type": "code",
   "execution_count": null,
   "id": "5ee2ba8f",
   "metadata": {},
   "outputs": [],
   "source": [
    "min_longitude = -2.250511\n",
    "max_longitude = -0.802813\n",
    "min_latitude = 45.670575\n",
    "max_latitude = 46.378693\n",
    "top_left = (max_latitude, min_longitude)\n",
    "top_right = (max_latitude, max_longitude)\n",
    "bottom_left = (min_latitude, min_longitude)\n",
    "bottom_right = (min_latitude, max_longitude)"
   ]
  },
  {
   "cell_type": "markdown",
   "id": "2b33feb3",
   "metadata": {},
   "source": [
    "# Position des bateaux"
   ]
  },
  {
   "cell_type": "code",
   "execution_count": null,
   "id": "93e5d680",
   "metadata": {},
   "outputs": [],
   "source": [
    "api_key = \"af3f41ea705f7881e533cdac088cfe72c154be34\""
   ]
  },
  {
   "cell_type": "code",
   "execution_count": null,
   "id": "f9b857d4",
   "metadata": {},
   "outputs": [],
   "source": [
    "url = \"https://services.marinetraffic.com/api/exportvesseltrack\"\n",
    "url"
   ]
  },
  {
   "cell_type": "code",
   "execution_count": null,
   "id": "811dc3a9",
   "metadata": {},
   "outputs": [],
   "source": [
    "headers = {'Content-Type': 'application/json'}\n",
    "res = requests.get(url, headers=headers, params={\"api_key\": api_key})\n",
    "res"
   ]
  },
  {
   "cell_type": "code",
   "execution_count": null,
   "id": "25e40d15",
   "metadata": {},
   "outputs": [],
   "source": [
    "res.text"
   ]
  },
  {
   "cell_type": "code",
   "execution_count": null,
   "id": "00fd8b6e",
   "metadata": {},
   "outputs": [],
   "source": [
    "from marinetrafficapi import MarineTrafficApi\n",
    "from tqdm.notebook import tqdm\n",
    "\n",
    "api = MarineTrafficApi(api_key=\"af3f41ea705f7881e533cdac088cfe72c154be34\")"
   ]
  },
  {
   "cell_type": "code",
   "execution_count": null,
   "id": "74604cf2",
   "metadata": {},
   "outputs": [],
   "source": [
    "int(max_latitude - min_latitude)"
   ]
  },
  {
   "cell_type": "code",
   "execution_count": null,
   "id": "4a1ed25a",
   "metadata": {},
   "outputs": [],
   "source": [
    "la_rochelle_vessel_position = []\n",
    "current_lat, current_long = min_latitude, min_longitude\n",
    "for lat_delta in tqdm(range(int(max_latitude - min_latitude) + 1)):\n",
    "    for long_delta in range(int(max_longitude - min_longitude) + 1):\n",
    "        vessel_positions = api.vessel_historical_track(period='daily', \n",
    "                                                       days=3, \n",
    "                                                       mmsi=241486000,\n",
    "                                                       min_longitude=current_long,\n",
    "                                                       max_longitude=current_long + long_delta,\n",
    "                                                       min_latitude=current_lat,\n",
    "                                                       max_latitude=current_lat + lat_delta)\n",
    "        current_lat, current_long = current_lat + lat_delta, current_long + long_delta\n",
    "        la_rochelle_vessel_position += vessel_positions.to_list"
   ]
  },
  {
   "cell_type": "code",
   "execution_count": null,
   "id": "075ff46f",
   "metadata": {},
   "outputs": [],
   "source": [
    "vessel_positions = api.vessel_historical_track(period='daily', \n",
    "                                               days=3, \n",
    "                                               min_longitude=min_longitude,\n",
    "                                               max_longitude=min_longitude+1,\n",
    "                                               min_latitude=min_latitude,\n",
    "                                               max_latitude=min_latitude+1)"
   ]
  },
  {
   "cell_type": "code",
   "execution_count": null,
   "id": "0a2abef6",
   "metadata": {},
   "outputs": [],
   "source": [
    "vessel_positions.to_list"
   ]
  },
  {
   "cell_type": "code",
   "execution_count": null,
   "id": "19df7eda",
   "metadata": {},
   "outputs": [],
   "source": [
    "MarineTrafficApi.print_params_for('vessel_historical_track')"
   ]
  },
  {
   "cell_type": "code",
   "execution_count": null,
   "id": "6d7e53a8",
   "metadata": {},
   "outputs": [],
   "source": [
    "response = api.__api_call_method__(protocol='json'|'jsono'|'csv'|'xml', # default is jsono\n",
    "                                   msg_type='simple'|'extended',  # default is simple\n",
    "                                   timeout=10) # default is 5 (5 seconds)"
   ]
  },
  {
   "cell_type": "code",
   "execution_count": null,
   "id": "d2c2a8fb",
   "metadata": {},
   "outputs": [],
   "source": [
    "import sys\n",
    "import importlib\n",
    "import numpy as np\n",
    "import math\n",
    "from math import pi, sin, acos, cos\n",
    "sys.path.insert(0, \"/home/mqueyrel/Documents/deseabel/deseabel/ocean_ecosystem/\")\n",
    "import noise_impactor\n",
    "importlib.reload(noise_impactor)"
   ]
  },
  {
   "cell_type": "code",
   "execution_count": null,
   "id": "b9bf6769",
   "metadata": {},
   "outputs": [],
   "source": [
    "from noise_impactor import NoiseImpactor, Boat, FishingBoat, PileDriving"
   ]
  },
  {
   "cell_type": "code",
   "execution_count": null,
   "id": "c4707736",
   "metadata": {},
   "outputs": [],
   "source": [
    "maille_TL = compute_decibels_matrix(45.8, -1.8)"
   ]
  },
  {
   "cell_type": "code",
   "execution_count": null,
   "id": "df7c4192",
   "metadata": {},
   "outputs": [],
   "source": [
    "SLi = compute_SLi(10, 30)"
   ]
  },
  {
   "cell_type": "code",
   "execution_count": null,
   "id": "3457fa8b",
   "metadata": {},
   "outputs": [],
   "source": [
    "min_longitude = -2.250511\n",
    "max_longitude = -0.802813\n",
    "min_latitude = 45.670575\n",
    "max_latitude = 46.378693\n",
    "\n",
    "range_lat = np.arange(min_latitude, max_latitude, 0.01)\n",
    "range_long = np.arange(min_longitude, max_longitude, 0.0015)"
   ]
  },
  {
   "cell_type": "code",
   "execution_count": null,
   "id": "81952afc",
   "metadata": {},
   "outputs": [],
   "source": []
  },
  {
   "cell_type": "code",
   "execution_count": null,
   "id": "04b468aa",
   "metadata": {},
   "outputs": [],
   "source": [
    "df_res = pd.DataFrame(RL)\n",
    "df_res.columns = range_long\n",
    "df_res[\"lat\"] = range_lat"
   ]
  },
  {
   "cell_type": "code",
   "execution_count": null,
   "id": "53a71611",
   "metadata": {},
   "outputs": [],
   "source": [
    "df_res = df_res.melt(id_vars=[\"lat\"], \n",
    "        var_name=\"lon\", \n",
    "        value_name=\"value\")"
   ]
  },
  {
   "cell_type": "code",
   "execution_count": null,
   "id": "29dd6733",
   "metadata": {},
   "outputs": [],
   "source": [
    "RL"
   ]
  },
  {
   "cell_type": "code",
   "execution_count": null,
   "id": "67d00ded",
   "metadata": {},
   "outputs": [],
   "source": [
    "df_res"
   ]
  },
  {
   "cell_type": "code",
   "execution_count": null,
   "id": "33830ca5",
   "metadata": {},
   "outputs": [],
   "source": [
    "import geopandas\n",
    "gdf = geopandas.GeoDataFrame(\n",
    "    df_res, geometry=geopandas.points_from_xy(df_res.lon, df_res.lat))"
   ]
  },
  {
   "cell_type": "code",
   "execution_count": null,
   "id": "4b0282a0",
   "metadata": {},
   "outputs": [],
   "source": [
    "gdf.to_file(\"../data/heatmap.geojson\", driver=\"GeoJSON\")"
   ]
  },
  {
   "cell_type": "code",
   "execution_count": null,
   "id": "7de2fa9a",
   "metadata": {},
   "outputs": [],
   "source": [
    "gdf.plot()"
   ]
  },
  {
   "cell_type": "code",
   "execution_count": null,
   "id": "78ce3cd5",
   "metadata": {},
   "outputs": [],
   "source": [
    "RL = update_decibels_matrix_with_speed(maille_TL, SLi, 1)"
   ]
  },
  {
   "cell_type": "code",
   "execution_count": null,
   "id": "e76d81df",
   "metadata": {},
   "outputs": [],
   "source": [
    "RL"
   ]
  },
  {
   "cell_type": "code",
   "execution_count": null,
   "id": "4e8f9530",
   "metadata": {},
   "outputs": [],
   "source": [
    "RL2 = update_decibels_matrix_with_speed(maille_TL, SLi, 2)\n",
    "RL3 = update_decibels_matrix_with_speed(maille_TL, SLi, 3)"
   ]
  },
  {
   "cell_type": "code",
   "execution_count": null,
   "id": "956df90f",
   "metadata": {},
   "outputs": [],
   "source": [
    "import seaborn"
   ]
  },
  {
   "cell_type": "code",
   "execution_count": null,
   "id": "f19f6fca",
   "metadata": {},
   "outputs": [],
   "source": [
    "seaborn.heatmap(RL)"
   ]
  },
  {
   "cell_type": "code",
   "execution_count": null,
   "id": "fb1b8b2a",
   "metadata": {},
   "outputs": [],
   "source": [
    "RL / RL2"
   ]
  },
  {
   "cell_type": "code",
   "execution_count": null,
   "id": "c2a25d22",
   "metadata": {},
   "outputs": [],
   "source": [
    "seaborn.heatmap(RL2)"
   ]
  },
  {
   "cell_type": "code",
   "execution_count": null,
   "id": "65be54e4",
   "metadata": {},
   "outputs": [],
   "source": [
    "seaborn.heatmap(RL3)"
   ]
  },
  {
   "cell_type": "code",
   "execution_count": null,
   "id": "ff050c17",
   "metadata": {},
   "outputs": [],
   "source": [
    "np.arccos"
   ]
  },
  {
   "cell_type": "code",
   "execution_count": null,
   "id": "8c74f1f6",
   "metadata": {},
   "outputs": [],
   "source": [
    "fish = geopandas.read_file(\"../data/Fish.geojson\")"
   ]
  },
  {
   "cell_type": "code",
   "execution_count": null,
   "id": "f258017e",
   "metadata": {},
   "outputs": [],
   "source": [
    "fish.plot()"
   ]
  },
  {
   "cell_type": "code",
   "execution_count": null,
   "id": "559acc51",
   "metadata": {},
   "outputs": [],
   "source": [
    "fish"
   ]
  },
  {
   "cell_type": "code",
   "execution_count": null,
   "id": "a9b187a2",
   "metadata": {},
   "outputs": [],
   "source": []
  },
  {
   "cell_type": "code",
   "execution_count": 1,
   "id": "83d83548",
   "metadata": {},
   "outputs": [],
   "source": [
    "import sys\n",
    "import importlib\n",
    "import numpy as np\n",
    "import math\n",
    "from math import pi, sin, acos, cos\n",
    "sys.path.insert(0, \"/home/mqueyrel/Documents/deseabel/deseabel/ocean_ecosystem\")\n",
    "import noise_impactor\n",
    "importlib.reload(noise_impactor)\n",
    "from noise_impactor import FishingBoat, Cargo, PileDriving\n",
    "from simulator import Simulator\n",
    "import pandas as pd\n",
    "import geopandas\n",
    "import seaborn\n",
    "from utils import load_config"
   ]
  },
  {
   "cell_type": "code",
   "execution_count": 2,
   "id": "c35e37ec",
   "metadata": {},
   "outputs": [],
   "source": [
    "config = load_config()\n",
    "boat1 = FishingBoat(lat=45.70, long=-2.1, speed=5)\n",
    "boat2 = FishingBoat(lat=45.85, long=-1.75, speed=10)\n",
    "boat3 = FishingBoat(lat=46, long=-1.9, speed=7)"
   ]
  },
  {
   "cell_type": "code",
   "execution_count": null,
   "id": "78e14cd7",
   "metadata": {},
   "outputs": [],
   "source": [
    "simu = Simulator(noise_impactors=[boat1, boat2, boat3], marine_fauna_files=None)"
   ]
  },
  {
   "cell_type": "code",
   "execution_count": null,
   "id": "b0fafe83",
   "metadata": {},
   "outputs": [],
   "source": [
    "hm_total = simu.compute_and_add_heatmaps()"
   ]
  },
  {
   "cell_type": "code",
   "execution_count": null,
   "id": "bace0e8c",
   "metadata": {},
   "outputs": [],
   "source": [
    "hm_total_quantified = hm_total.copy()\n",
    "\n",
    "val_dead = 62\n",
    "val_mean = 55\n",
    "val_zen = 51\n",
    "\n",
    "hm_total_quantified[hm_total_quantified < val_zen] = 0\n",
    "hm_total_quantified[(hm_total_quantified <= val_mean) & (hm_total_quantified >= val_zen)] = 1\n",
    "hm_total_quantified[(hm_total_quantified <= val_dead) & (hm_total_quantified >= val_mean)] = 2\n",
    "hm_total_quantified[hm_total_quantified > val_dead] = 3"
   ]
  },
  {
   "cell_type": "code",
   "execution_count": null,
   "id": "abdde816",
   "metadata": {},
   "outputs": [],
   "source": [
    "df_res = pd.DataFrame(hm_total_quantified[::-1])\n",
    "df_res.columns = boat1.range_long\n",
    "df_res[\"lat\"] = boat1.range_lat\n",
    "df_res = df_res.melt(id_vars=[\"lat\"], \n",
    "        var_name=\"lon\", \n",
    "        value_name=\"value\")"
   ]
  },
  {
   "cell_type": "code",
   "execution_count": null,
   "id": "ad8c7719",
   "metadata": {},
   "outputs": [],
   "source": [
    "gdf = geopandas.GeoDataFrame(\n",
    "        df_res, geometry=geopandas.points_from_xy(df_res.lon, df_res.lat))"
   ]
  },
  {
   "cell_type": "code",
   "execution_count": null,
   "id": "c72e68cb",
   "metadata": {},
   "outputs": [],
   "source": [
    "gdf[gdf[\"value\"].isin([1,2,3])].to_file(\"../data/safe_zone_noeuds.geojson\", driver=\"GeoJSON\")\n",
    "gdf[gdf[\"value\"].isin([2,3])].to_file(\"../data/hurt_zone_noeuds.geojson\", driver=\"GeoJSON\")\n",
    "gdf[gdf[\"value\"] == 3].to_file(\"../data/dead_zone_noeuds.geojson\", driver=\"GeoJSON\")"
   ]
  },
  {
   "cell_type": "code",
   "execution_count": null,
   "id": "2d72028f",
   "metadata": {},
   "outputs": [],
   "source": [
    "seaborn.heatmap(hm_total)"
   ]
  },
  {
   "cell_type": "code",
   "execution_count": null,
   "id": "c7fedae9",
   "metadata": {},
   "outputs": [],
   "source": [
    "# min_longitude = -2.250511\n",
    "# max_longitude = -0.802813\n",
    "# min_latitude = 45.670575\n",
    "# max_latitude = 46.378693\n",
    "\n",
    "speed = 10\n",
    "lat = 45.9\n",
    "long=-1.9\n",
    "boat1 = FishingBoat(lat=45.70, long=-2.1, speed=10)\n",
    "boat2 = FishingBoat(lat=lat, long=long, speed=speed)\n",
    "boat3 = FishingBoat(lat=46, long=-1.9, speed=10)\n",
    "\n",
    "simu = Simulator(noise_impactors=[boat1, boat2, boat3], marine_fauna_files=None)\n",
    "simu = Simulator(noise_impactors=[boat2], marine_fauna_files=None)\n",
    "\n",
    "hm_total = simu.compute_and_add_heatmaps()\n",
    "\n",
    "hm_total_quantified = hm_total.copy()\n",
    "\n",
    "val_dead = 62\n",
    "val_mean = 55\n",
    "val_zen = 51\n",
    "\n",
    "hm_total_quantified[hm_total_quantified < val_zen] = 0\n",
    "hm_total_quantified[(hm_total_quantified <= val_mean) & (hm_total_quantified >= val_zen)] = 1\n",
    "hm_total_quantified[(hm_total_quantified <= val_dead) & (hm_total_quantified >= val_mean)] = 2\n",
    "hm_total_quantified[hm_total_quantified > val_dead] = 3\n",
    "\n",
    "print(\"lat\", lat, \"long\", long)"
   ]
  },
  {
   "cell_type": "code",
   "execution_count": null,
   "id": "90b111e5",
   "metadata": {},
   "outputs": [],
   "source": [
    "seaborn.heatmap(hm_total)"
   ]
  },
  {
   "cell_type": "code",
   "execution_count": null,
   "id": "fb5d79ac",
   "metadata": {},
   "outputs": [],
   "source": [
    "seaborn.heatmap(hm_total_quantified[::-1])"
   ]
  },
  {
   "cell_type": "code",
   "execution_count": null,
   "id": "f41ff774",
   "metadata": {},
   "outputs": [],
   "source": [
    "# df_res = pd.DataFrame(hm_total)\n",
    "# df_res.columns = boat1.range_long\n",
    "# df_res[\"lat\"] = boat1.range_lat\n",
    "# df_res = df_res.melt(id_vars=[\"lat\"], \n",
    "#         var_name=\"lon\", \n",
    "#         value_name=\"value\")\n",
    "\n",
    "# gdf = geopandas.GeoDataFrame(\n",
    "#     df_res, geometry=geopandas.points_from_xy(df_res.lon, df_res.lat))\n",
    "\n",
    "# gdf.to_file(\"../data/decibels.geojson\", driver=\"GeoJSON\")"
   ]
  },
  {
   "cell_type": "code",
   "execution_count": null,
   "id": "c422dcef",
   "metadata": {},
   "outputs": [],
   "source": [
    "df_res = pd.DataFrame(hm_total_quantified[::-1])\n",
    "df_res.columns = boat1.range_long\n",
    "df_res[\"lat\"] = boat1.range_lat\n",
    "df_res = df_res.melt(id_vars=[\"lat\"], \n",
    "        var_name=\"lon\", \n",
    "        value_name=\"value\")\n",
    "\n",
    "gdf = geopandas.GeoDataFrame(\n",
    "    df_res, geometry=geopandas.points_from_xy(df_res.lon, df_res.lat))"
   ]
  },
  {
   "cell_type": "code",
   "execution_count": null,
   "id": "8b008f62",
   "metadata": {},
   "outputs": [],
   "source": [
    "gdf.to_file(\"../data/decibels_quantified.geojson\", driver=\"GeoJSON\")"
   ]
  },
  {
   "cell_type": "code",
   "execution_count": null,
   "id": "87ae06de",
   "metadata": {},
   "outputs": [],
   "source": [
    "gdf[gdf[\"value\"].isin([1,2,3])].to_file(f\"../data/safe_zone_{speed}_noeuds.geojson\", driver=\"GeoJSON\")\n",
    "gdf[gdf[\"value\"].isin([2,3])].to_file(f\"../data/hurt_zone_{speed}_noeuds.geojson\", driver=\"GeoJSON\")\n",
    "gdf[gdf[\"value\"] == 3].to_file(f\"../data/dead_zone_{speed}_noeuds.geojson\", driver=\"GeoJSON\")"
   ]
  },
  {
   "cell_type": "code",
   "execution_count": null,
   "id": "12d05896",
   "metadata": {},
   "outputs": [],
   "source": [
    "gdf[gdf[\"value\"] == 1].to_file(\"../data/safe_zone_hole.geojson\", driver=\"GeoJSON\")\n",
    "gdf[gdf[\"value\"] == 2].to_file(\"../data/hurt_zone_hole.geojson\", driver=\"GeoJSON\")"
   ]
  }
 ],
 "metadata": {
  "kernelspec": {
   "display_name": "Python 3 (ipykernel)",
   "language": "python",
   "name": "python3"
  },
  "language_info": {
   "codemirror_mode": {
    "name": "ipython",
    "version": 3
   },
   "file_extension": ".py",
   "mimetype": "text/x-python",
   "name": "python",
   "nbconvert_exporter": "python",
   "pygments_lexer": "ipython3",
   "version": "3.9.12"
  },
  "vscode": {
   "interpreter": {
    "hash": "52fbb29102f9c7496de1804fa49112e1756449b19db487fc6298a9f0acf4f608"
   }
  }
 },
 "nbformat": 4,
 "nbformat_minor": 5
}
