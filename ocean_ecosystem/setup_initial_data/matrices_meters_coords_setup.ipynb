{
 "cells": [
  {
   "cell_type": "code",
   "execution_count": 54,
   "id": "31b164eb-d01f-4430-855a-72100f1835b4",
   "metadata": {},
   "outputs": [],
   "source": [
    "import numpy as np\n",
    "from collections import defaultdict"
   ]
  },
  {
   "cell_type": "code",
   "execution_count": 85,
   "id": "aa8b9a8f-0edf-490d-b10c-682b24bc55a3",
   "metadata": {},
   "outputs": [],
   "source": [
    "class MatrixMetersCoordinates:\n",
    "    def __init__(self,\n",
    "        width: int = 200000,\n",
    "        height: int = 100000,\n",
    "        step: int=100,\n",
    "        longitude_west: float=5.732,\n",
    "        latitude_north:float=47.747,\n",
    "    ):\n",
    "        self.width = width\n",
    "        self.height = height\n",
    "        self.step = step\n",
    "        self.longitude_west = longitude_west\n",
    "        self.latitude_north = latitude_north\n",
    "        \n",
    "        self.post_init()\n",
    "    \n",
    "    def post_init(self):\n",
    "        \n",
    "        matrix_meters = np.zeros((int(self.width/self.step), int(self.height/self.step)))\n",
    "        self.matrix_meters = matrix_meters\n",
    "        \n",
    "        matrix_meters_metadata = {\"step\":self.step}\n",
    "        self.matrix_meters_metadata = matrix_meters_metadata\n",
    "        \n",
    "        self.get_coordinates_meters_hashes()\n",
    "        \n",
    "    def get_coordinates_meters_hashes(self):\n",
    "        earth_radius = 6371000\n",
    "        longitude_est = self.longitude_west + (self.width/earth_radius) * (180/ np.pi) / np.cos(self.latitude_north * np.pi/180)\n",
    "        latitude_south = self.latitude_north - (self.height/earth_radius) * (180/ np.pi)\n",
    "        \n",
    "        longitude_west_to_est = np.linspace(self.longitude_west, longitude_est, self.matrix_meters.shape[0])\n",
    "        latitude_north_to_south = np.linspace(self.latitude_north, latitude_south, self.matrix_meters.shape[1])\n",
    "        hash_coordinates_to_indices = dict()\n",
    "\n",
    "        for ix in range(len(longitude_west_to_est)-1):\n",
    "            for iy in range(len(latitude_north_to_south)-1):\n",
    "                hash_coordinates_to_indices[\n",
    "                    (\n",
    "                        longitude_west_to_est[ix],\n",
    "                        latitude_north_to_south[iy],\n",
    "                        longitude_west_to_est[ix+1],\n",
    "                        latitude_north_to_south[iy+1]\n",
    "                    )\n",
    "                ] = (ix, iy)\n",
    "        self.hash_coordinates_to_indices = hash_coordinates_to_indices\n",
    "        self.hash_indices_to_coordinates = {value: key for key, value in self.hash_coordinates_to_indices.items()}\n",
    "                \n",
    "def to_geojson(decibels_matrix, hash_indices_to_coordinates, filepath):\n",
    "    #https://stackoverflow.com/questions/56683507/different-color-for-each-polygon-in-multipolygon-in-mapbox\n",
    "    for x in range(len(decibels_matrix.shape[0])):\n",
    "        for y in range(len(decibels_matrix.shape[1])):\n",
    "            coordinates = hash_indices_to_coordinates[(x,y)]\n",
    "            decibels = decibels_matrix[x,y]\n",
    "            \n",
    "            "
   ]
  }
 ],
 "metadata": {
  "kernelspec": {
   "display_name": "Python 3 (ipykernel)",
   "language": "python",
   "name": "python3"
  },
  "language_info": {
   "codemirror_mode": {
    "name": "ipython",
    "version": 3
   },
   "file_extension": ".py",
   "mimetype": "text/x-python",
   "name": "python",
   "nbconvert_exporter": "python",
   "pygments_lexer": "ipython3",
   "version": "3.8.8"
  }
 },
 "nbformat": 4,
 "nbformat_minor": 5
}
