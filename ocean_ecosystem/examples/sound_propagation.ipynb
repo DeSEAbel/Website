{
 "cells": [
  {
   "cell_type": "code",
   "execution_count": 9,
   "id": "83d83548",
   "metadata": {},
   "outputs": [],
   "source": [
    "import sys\n",
    "import os\n",
    "import importlib\n",
    "import pandas as pd\n",
    "import numpy as np\n",
    "import geopandas\n",
    "import seaborn\n",
    "sys.path.insert(0, os.path.join(os.environ[\"DESEABEL_PATH\"], \"ocean_ecosystem\"))\n",
    "import noise_impactor\n",
    "import simulator\n",
    "import marine_fauna\n",
    "import marine_map\n",
    "import matrix_conversion\n",
    "importlib.reload(matrix_conversion)\n",
    "importlib.reload(marine_map)\n",
    "importlib.reload(marine_fauna)\n",
    "importlib.reload(simulator)\n",
    "importlib.reload(noise_impactor)\n",
    "\n",
    "from noise_impactor import FishingBoat, PileDriving\n",
    "from simulator import Simulator\n",
    "from marine_fauna import Fish\n",
    "from marine_map import MarineMap\n",
    "from matrix_conversion import *"
   ]
  },
  {
   "cell_type": "markdown",
   "id": "0b4adfb9",
   "metadata": {},
   "source": [
    "## Create 3 boats and one fish species"
   ]
  },
  {
   "cell_type": "code",
   "execution_count": 10,
   "id": "cecca017",
   "metadata": {},
   "outputs": [],
   "source": [
    "boat1 = FishingBoat(lat=45.20, lon=-5.2, speed=10, length=10)\n",
    "boat2 = FishingBoat(lat=44.85, lon=-4.9, speed=15, length=13)\n",
    "boat3 = FishingBoat(lat=44.5, lon=-5.2, speed=17, length=5)\n",
    "\n",
    "fish = Fish(\"../../data/fish.geojson\")"
   ]
  },
  {
   "cell_type": "markdown",
   "id": "391fd5fe",
   "metadata": {},
   "source": [
    "## Initialize a marine map with specific shapes"
   ]
  },
  {
   "cell_type": "code",
   "execution_count": 11,
   "id": "03db3c2d",
   "metadata": {},
   "outputs": [],
   "source": [
    "# Example\n",
    "width = 300000\n",
    "height = 300000\n",
    "step = 1000\n",
    "longitude_west = -2.40953\n",
    "latitude_north = 46.41813\n",
    "longitude_west = -6.40953\n",
    "latitude_north = 46.41813\n",
    "\n",
    "marine_map = MarineMap(width, height, step, longitude_west, latitude_north)"
   ]
  },
  {
   "cell_type": "markdown",
   "id": "dfbda439",
   "metadata": {},
   "source": [
    "## Initialize a Simulator"
   ]
  },
  {
   "cell_type": "code",
   "execution_count": null,
   "id": "e46cccd6",
   "metadata": {},
   "outputs": [],
   "source": [
    "simu = Simulator(marine_map, list_noise_impactor=[boat1, boat2], list_marine_fauna=[])\n",
    "\n",
    "# Add manually other objects\n",
    "simu.add_noise_impactor(boat3)\n",
    "simu.add_marine_fauna(fish)"
   ]
  },
  {
   "cell_type": "markdown",
   "id": "a5691f37",
   "metadata": {},
   "source": [
    "#### Plot the heatmap of the noise from the map"
   ]
  },
  {
   "cell_type": "code",
   "execution_count": null,
   "id": "4d05bf8a",
   "metadata": {},
   "outputs": [],
   "source": [
    "marine_map.matrix_decibel_gpd.to_file(\"../data/matrix_decibel.geojson\", driver=\"GeoJSON\")\n",
    "seaborn.heatmap(marine_map.matrix_decibel)"
   ]
  },
  {
   "cell_type": "markdown",
   "id": "75245d48",
   "metadata": {},
   "source": [
    "## Compute the marine fauna impact for the fish species"
   ]
  },
  {
   "cell_type": "code",
   "execution_count": null,
   "id": "c5fdfed1",
   "metadata": {},
   "outputs": [],
   "source": [
    "simu.update_marine_fauna_impact(\"fish\")"
   ]
  },
  {
   "cell_type": "markdown",
   "id": "3702b7f7",
   "metadata": {},
   "source": [
    "#### Show different results\n",
    "1. Plot the corresponding quantified matrix of the different levels of noise impacts\n",
    "2. Print the corresponding array impact\n",
    "3. Plot The corresponding location of the fish species"
   ]
  },
  {
   "cell_type": "code",
   "execution_count": null,
   "id": "661df6fe",
   "metadata": {},
   "outputs": [],
   "source": [
    "marine_map.matrix_decibel_impact_quantified_gpd.to_file(\"../data/matrix_decibel_impact_quantified\", driver=\"GeoJSON\")\n",
    "seaborn.heatmap(marine_map.matrix_decibel_impact_quantified)"
   ]
  },
  {
   "cell_type": "code",
   "execution_count": null,
   "id": "915826d7",
   "metadata": {},
   "outputs": [],
   "source": [
    "with open(f\"../data/array_impact_{fish.type}.json\", \"w\") as f_out:\n",
    "    json.dump({i: impact for i, impact in enumerate(fish.array_impact)}, f_out)\n",
    "fish.array_impact"
   ]
  },
  {
   "cell_type": "code",
   "execution_count": null,
   "id": "34ebeb1a",
   "metadata": {},
   "outputs": [],
   "source": [
    "coords = marine_map.get_coords_xy_from_geopandas(fish.spot_gpd)\n",
    "matrix_res = np.zeros(marine_map.matrix_decibel.shape)\n",
    "\n",
    "matrix_res[coords[:, 0], coords[:, 1]] = 1\n",
    "\n",
    "seaborn.heatmap(matrix_res)"
   ]
  },
  {
   "cell_type": "code",
   "execution_count": null,
   "id": "c2de9abd",
   "metadata": {},
   "outputs": [],
   "source": []
  }
 ],
 "metadata": {
  "kernelspec": {
   "display_name": "Python 3 (ipykernel)",
   "language": "python",
   "name": "python3"
  },
  "language_info": {
   "codemirror_mode": {
    "name": "ipython",
    "version": 3
   },
   "file_extension": ".py",
   "mimetype": "text/x-python",
   "name": "python",
   "nbconvert_exporter": "python",
   "pygments_lexer": "ipython3",
   "version": "3.9.12"
  }
 },
 "nbformat": 4,
 "nbformat_minor": 5
}
