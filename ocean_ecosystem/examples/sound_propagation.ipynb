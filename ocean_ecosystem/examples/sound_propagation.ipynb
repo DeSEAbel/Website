{
 "cells": [
  {
   "cell_type": "code",
   "execution_count": null,
   "id": "83d83548",
   "metadata": {},
   "outputs": [],
   "source": [
    "import sys\n",
    "import os\n",
    "import importlib\n",
    "import pandas as pd\n",
    "import numpy as np\n",
    "import geopandas\n",
    "import seaborn\n",
    "#sys.path.insert(0, os.path.join(os.environ[\"DESEABEL_PATH\"], \"ocean_ecosystem\"))\n",
    "from ocean_ecosystem import noise_impactor\n",
    "import simulator\n",
    "import marine_fauna\n",
    "import marine_map\n",
    "import matrix_conversion\n",
    "importlib.reload(matrix_conversion)\n",
    "importlib.reload(marine_map)\n",
    "importlib.reload(marine_fauna)\n",
    "importlib.reload(simulator)\n",
    "importlib.reload(noise_impactor)\n",
    "\n",
    "from noise_impactor import FishingBoat, PileDriving\n",
    "from simulator import Simulator\n",
    "from marine_fauna import Fish\n",
    "from marine_map import MarineMap\n",
    "from matrix_conversion import *"
   ]
  },
  {
   "cell_type": "code",
   "execution_count": null,
   "id": "bfb01e2c",
   "metadata": {},
   "outputs": [],
   "source": [
    "from pip.req import parse_requirements\n",
    "install_reqs = parse_requirements('../requirements.txt', session='hack')"
   ]
  },
  {
   "cell_type": "markdown",
   "id": "0b4adfb9",
   "metadata": {},
   "source": [
    "## Create 3 boats and one fish species"
   ]
  },
  {
   "cell_type": "code",
   "execution_count": null,
   "id": "cecca017",
   "metadata": {},
   "outputs": [],
   "source": [
    "boat1 = FishingBoat(id=1, lat=45.20, lon=-5.2, speed=10, length=10)\n",
    "boat2 = FishingBoat(id=2, lat=44.85, lon=-4.9, speed=15, length=13)\n",
    "boat3 = FishingBoat(id=3, lat=44.5, lon=-5.2, speed=17, length=5)\n",
    "\n",
    "path_data = \"s3://deseabel/marine_fauna/fish.geojson\"\n",
    "\n",
    "fish = Fish(path_data)"
   ]
  },
  {
   "cell_type": "markdown",
   "id": "391fd5fe",
   "metadata": {},
   "source": [
    "## Initialize a marine map with specific shapes"
   ]
  },
  {
   "cell_type": "code",
   "execution_count": null,
   "id": "03db3c2d",
   "metadata": {},
   "outputs": [],
   "source": [
    "# Example\n",
    "width = 300000\n",
    "height = 300000\n",
    "step = 1000\n",
    "longitude_west = -6.40953\n",
    "latitude_north = 46.41813\n",
    "\n",
    "marine_map = MarineMap(width, height, step, longitude_west, latitude_north)"
   ]
  },
  {
   "cell_type": "markdown",
   "id": "dfbda439",
   "metadata": {},
   "source": [
    "## Initialize a Simulator"
   ]
  },
  {
   "cell_type": "code",
   "execution_count": null,
   "id": "e46cccd6",
   "metadata": {},
   "outputs": [],
   "source": [
    "simu = Simulator(marine_map, list_noise_impactor=[boat1, boat2], list_marine_fauna=[])\n",
    "\n",
    "# Add manually other objects\n",
    "simu.add_noise_impactor(boat3)\n",
    "simu.add_marine_fauna(fish)"
   ]
  },
  {
   "cell_type": "markdown",
   "id": "a5691f37",
   "metadata": {},
   "source": [
    "#### Plot the heatmap of the noise from the map"
   ]
  },
  {
   "cell_type": "code",
   "execution_count": null,
   "id": "4d05bf8a",
   "metadata": {},
   "outputs": [],
   "source": [
    "#marine_map.matrix_decibel_gpd.to_file(\".data/matrix_decibel.geojson\", driver=\"GeoJSON\")\n",
    "seaborn.heatmap(marine_map.matrix_decibel)"
   ]
  },
  {
   "cell_type": "markdown",
   "id": "75245d48",
   "metadata": {},
   "source": [
    "## Compute the marine fauna impact for the fish species"
   ]
  },
  {
   "cell_type": "code",
   "execution_count": null,
   "id": "c5fdfed1",
   "metadata": {},
   "outputs": [],
   "source": [
    "simu.update_marine_fauna_impact(\"fish\")"
   ]
  },
  {
   "cell_type": "markdown",
   "id": "3702b7f7",
   "metadata": {},
   "source": [
    "#### Show different results\n",
    "1. Plot the corresponding quantified matrix of the different levels of noise impacts\n",
    "2. Print the corresponding array impact\n",
    "3. Plot The corresponding location of the fish species"
   ]
  },
  {
   "cell_type": "code",
   "execution_count": null,
   "id": "661df6fe",
   "metadata": {},
   "outputs": [],
   "source": [
    "#marine_map.matrix_decibel_impact_quantified_gpd.to_file(\"../data/matrix_decibel_impact_quantified\", driver=\"GeoJSON\")\n",
    "seaborn.heatmap(marine_map.matrix_decibel_impact_quantified)"
   ]
  },
  {
   "cell_type": "code",
   "execution_count": null,
   "id": "915826d7",
   "metadata": {},
   "outputs": [],
   "source": [
    "# with open(f\"../data/array_impact_{fish._species}.json\", \"w\") as f_out:\n",
    "#     json.dump({i: impact for i, impact in enumerate(fish.array_impact)}, f_out)\n",
    "fish.array_impact"
   ]
  },
  {
   "cell_type": "code",
   "execution_count": null,
   "id": "34ebeb1a",
   "metadata": {},
   "outputs": [],
   "source": [
    "coords = marine_map.get_coords_xy_from_geopandas(fish.spot_gpd)\n",
    "matrix_res = np.zeros(marine_map.matrix_decibel.shape)\n",
    "\n",
    "matrix_res[coords[:, 0], coords[:, 1]] = 1\n",
    "\n",
    "seaborn.heatmap(matrix_res)"
   ]
  },
  {
   "cell_type": "markdown",
   "id": "2502e7b7",
   "metadata": {},
   "source": [
    "## Use the API"
   ]
  },
  {
   "cell_type": "code",
   "execution_count": null,
   "id": "2f398295",
   "metadata": {},
   "outputs": [],
   "source": [
    "import requests\n",
    "import os\n",
    "import time\n",
    "zone = \"la_rochelle\"\n",
    "path_data = \"s3://deseabel/marine_fauna/fish.geojson\"\n",
    "species = \"fish\"\n",
    "\n",
    "# urls\n",
    "url_base = \"http://0.0.0.0:8000/\"\n",
    "url_show = os.path.join(url_base, f\"show/{zone}\")\n",
    "url_init = os.path.join(url_base, \"initialize_user\")\n",
    "url_add_boat = os.path.join(url_base, f\"add_boat/fishing_boat?zone={zone}\")\n",
    "url_add_marine_fauna = os.path.join(url_base, f\"add_marine_fauna/fish?zone={zone}&geojson_path={path_data}\")\n",
    "url_update_impact = os.path.join(url_base, f\"update_marine_fauna_impact?zone={zone}&species={species}\")\n",
    "url_decibel_matrix = os.path.join(url_base, f\"decibel_matrix?zone={zone}\")\n",
    "url_decibel_matrix_impact_quantified = os.path.join(url_base, f\"decibel_matrix_impact_quantified?zone={zone}\")\n",
    "url_percentage_marine_fauna_impact_by_level = os.path.join(url_base, f\"percentage_marine_fauna_impact_by_level?zone={zone}&species={species}\")\n",
    "\n",
    "requests.get(url_base).text"
   ]
  },
  {
   "cell_type": "code",
   "execution_count": null,
   "id": "57930f1f",
   "metadata": {},
   "outputs": [],
   "source": [
    "token1 = requests.post(url_init).json()[\"token\"]\n",
    "time.sleep(1)\n",
    "token2 = requests.post(url_init).json()[\"token\"]\n",
    "header1 = {\"token\": token1}\n",
    "header2 = {\"token\": token2}"
   ]
  },
  {
   "cell_type": "code",
   "execution_count": null,
   "id": "df26bfc3",
   "metadata": {},
   "outputs": [],
   "source": [
    "boat1 = {\"id\": 1, \"lat\": 45.20, \"lon\": -5.2, \"speed\": 10, \"length\": 10}\n",
    "boat2 = {\"id\": 2, \"lat\": 44.85, \"lon\": -4.9, \"speed\": 15, \"length\": 13}\n",
    "boat3 = {\"id\": 3, \"lat\": 44.5, \"lon\": -5.2, \"speed\": 17, \"length\": 5}\n",
    "requests.post(url_add_boat, json=boat1, headers=header1)\n",
    "requests.post(url_add_boat, json=boat2, headers=header1)\n",
    "requests.post(url_add_boat, json=boat3, headers=header1)\n",
    "# id_to_del = 2\n",
    "# url_delete_boat = os.path.join(url_base, f\"remove_noise_impactor?id={id_to_del}\")\n",
    "# requests.get(url_delete_boat).text"
   ]
  },
  {
   "cell_type": "code",
   "execution_count": null,
   "id": "c4db2611",
   "metadata": {},
   "outputs": [],
   "source": [
    "requests.get(url_show, headers=header1).text"
   ]
  },
  {
   "cell_type": "code",
   "execution_count": null,
   "id": "d100fb26",
   "metadata": {},
   "outputs": [],
   "source": [
    "requests.get(url_show, headers=header2).text"
   ]
  },
  {
   "cell_type": "code",
   "execution_count": null,
   "id": "07171971",
   "metadata": {},
   "outputs": [],
   "source": [
    "requests.post(url_add_marine_fauna, headers=header1).text\n",
    "# species_to_del = \"fish\"\n",
    "# url_delete_species = os.path.join(url_base, f\"remove_marine_fauna?species={species_to_del}\")\n",
    "# requests.delete(url_delete_species).text"
   ]
  },
  {
   "cell_type": "code",
   "execution_count": null,
   "id": "e77c0850",
   "metadata": {},
   "outputs": [],
   "source": [
    "requests.get(url_show, headers=header1).text"
   ]
  },
  {
   "cell_type": "code",
   "execution_count": null,
   "id": "9528ff01",
   "metadata": {},
   "outputs": [],
   "source": [
    "requests.post(url_update_impact, headers=header1)"
   ]
  },
  {
   "cell_type": "code",
   "execution_count": null,
   "id": "779f252d",
   "metadata": {},
   "outputs": [],
   "source": [
    "res = requests.get(url_decibel_matrix, headers=header1)"
   ]
  },
  {
   "cell_type": "code",
   "execution_count": null,
   "id": "1d623c6b",
   "metadata": {},
   "outputs": [],
   "source": [
    "res = requests.get(url_decibel_matrix_impact_quantified, headers=header1)"
   ]
  },
  {
   "cell_type": "code",
   "execution_count": null,
   "id": "33f406d3",
   "metadata": {},
   "outputs": [],
   "source": [
    "res = requests.get(url_percentage_marine_fauna_impact_by_level, headers=header1)"
   ]
  },
  {
   "cell_type": "code",
   "execution_count": null,
   "id": "a123d7a5",
   "metadata": {},
   "outputs": [],
   "source": [
    "res.text"
   ]
  },
  {
   "cell_type": "code",
   "execution_count": null,
   "id": "8be588db",
   "metadata": {},
   "outputs": [],
   "source": []
  }
 ],
 "metadata": {
  "kernelspec": {
   "display_name": "Python 3 (ipykernel)",
   "language": "python",
   "name": "python3"
  },
  "language_info": {
   "codemirror_mode": {
    "name": "ipython",
    "version": 3
   },
   "file_extension": ".py",
   "mimetype": "text/x-python",
   "name": "python",
   "nbconvert_exporter": "python",
   "pygments_lexer": "ipython3",
   "version": "3.9.12"
  }
 },
 "nbformat": 4,
 "nbformat_minor": 5
}
