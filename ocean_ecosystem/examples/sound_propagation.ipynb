{
 "cells": [
  {
   "cell_type": "code",
   "execution_count": 1,
   "id": "83d83548",
   "metadata": {},
   "outputs": [],
   "source": [
    "import sys\n",
    "import importlib\n",
    "import pandas as pd\n",
    "import numpy as np\n",
    "import geopandas\n",
    "import seaborn\n",
    "sys.path.insert(0, \"/home/mqueyrel/Documents/deseabel/deseabel/ocean_ecosystem\")\n",
    "import noise_impactor\n",
    "importlib.reload(noise_impactor)\n",
    "from noise_impactor import FishingBoat, Cargo, PileDriving\n",
    "from simulator import Simulator\n",
    "from marine_fauna import Fish\n",
    "from maritime_map import MaritimeMap"
   ]
  },
  {
   "cell_type": "code",
   "execution_count": 2,
   "id": "cecca017",
   "metadata": {},
   "outputs": [],
   "source": [
    "boat1 = FishingBoat(lat=45.70, lon=-2.1, speed=5, flotation_surface=15*8)\n",
    "boat2 = FishingBoat(lat=45.85, lon=-1.75, speed=10, flotation_surface=13*6)\n",
    "boat3 = FishingBoat(lat=46, lon=-1.9, speed=7, flotation_surface=20*8)\n",
    "\n",
    "list_noise_impactor = [boat1, boat2]"
   ]
  },
  {
   "cell_type": "code",
   "execution_count": 3,
   "id": "22dea037",
   "metadata": {},
   "outputs": [],
   "source": [
    "fish = Fish(\"../../data/fish.geojson\")"
   ]
  },
  {
   "cell_type": "code",
   "execution_count": 4,
   "id": "03db3c2d",
   "metadata": {},
   "outputs": [],
   "source": [
    "maritime_map = MaritimeMap(10, 2000, 10, 1000, 100)"
   ]
  },
  {
   "cell_type": "code",
   "execution_count": 5,
   "id": "fc97f165",
   "metadata": {},
   "outputs": [
    {
     "ename": "AttributeError",
     "evalue": "'FishingBoat' object has no attribute 'x0'",
     "output_type": "error",
     "traceback": [
      "\u001b[0;31m---------------------------------------------------------------------------\u001b[0m",
      "\u001b[0;31mAttributeError\u001b[0m                            Traceback (most recent call last)",
      "\u001b[0;32m/tmp/ipykernel_33521/403004409.py\u001b[0m in \u001b[0;36m<module>\u001b[0;34m\u001b[0m\n\u001b[0;32m----> 1\u001b[0;31m \u001b[0msimu\u001b[0m \u001b[0;34m=\u001b[0m \u001b[0mSimulator\u001b[0m\u001b[0;34m(\u001b[0m\u001b[0mmaritime_map\u001b[0m\u001b[0;34m,\u001b[0m \u001b[0mlist_noise_impactor\u001b[0m\u001b[0;34m=\u001b[0m\u001b[0mlist_noise_impactor\u001b[0m\u001b[0;34m,\u001b[0m \u001b[0mlist_marine_fauna\u001b[0m\u001b[0;34m=\u001b[0m\u001b[0;34m[\u001b[0m\u001b[0;34m]\u001b[0m\u001b[0;34m)\u001b[0m\u001b[0;34m\u001b[0m\u001b[0;34m\u001b[0m\u001b[0m\n\u001b[0m\u001b[1;32m      2\u001b[0m \u001b[0;34m\u001b[0m\u001b[0m\n\u001b[1;32m      3\u001b[0m \u001b[0msimu\u001b[0m\u001b[0;34m.\u001b[0m\u001b[0madd_noise_impactor\u001b[0m\u001b[0;34m(\u001b[0m\u001b[0mboat3\u001b[0m\u001b[0;34m)\u001b[0m\u001b[0;34m\u001b[0m\u001b[0;34m\u001b[0m\u001b[0m\n\u001b[1;32m      4\u001b[0m \u001b[0msimu\u001b[0m\u001b[0;34m.\u001b[0m\u001b[0madd_marine_fauna\u001b[0m\u001b[0;34m(\u001b[0m\u001b[0mfish\u001b[0m\u001b[0;34m)\u001b[0m\u001b[0;34m\u001b[0m\u001b[0;34m\u001b[0m\u001b[0m\n",
      "\u001b[0;32m~/Documents/deseabel/deseabel/ocean_ecosystem/simulator.py\u001b[0m in \u001b[0;36m__init__\u001b[0;34m(self, map, list_noise_impactor, list_marine_fauna)\u001b[0m\n\u001b[1;32m     15\u001b[0m         \u001b[0mself\u001b[0m\u001b[0;34m.\u001b[0m\u001b[0mcheck_list_marine_fauna_is_correct\u001b[0m\u001b[0;34m(\u001b[0m\u001b[0;34m)\u001b[0m\u001b[0;34m\u001b[0m\u001b[0;34m\u001b[0m\u001b[0m\n\u001b[1;32m     16\u001b[0m         \u001b[0mself\u001b[0m\u001b[0;34m.\u001b[0m\u001b[0mmap\u001b[0m \u001b[0;34m=\u001b[0m \u001b[0mmap\u001b[0m\u001b[0;34m\u001b[0m\u001b[0;34m\u001b[0m\u001b[0m\n\u001b[0;32m---> 17\u001b[0;31m         \u001b[0mself\u001b[0m\u001b[0;34m.\u001b[0m\u001b[0mmap\u001b[0m\u001b[0;34m.\u001b[0m\u001b[0mcompute_and_add_heatmaps\u001b[0m\u001b[0;34m(\u001b[0m\u001b[0mself\u001b[0m\u001b[0;34m.\u001b[0m\u001b[0mlist_noise_impactor\u001b[0m\u001b[0;34m)\u001b[0m\u001b[0;34m\u001b[0m\u001b[0;34m\u001b[0m\u001b[0m\n\u001b[0m\u001b[1;32m     18\u001b[0m \u001b[0;34m\u001b[0m\u001b[0m\n\u001b[1;32m     19\u001b[0m     \u001b[0;32mdef\u001b[0m \u001b[0mcheck_list_marine_fauna_is_correct\u001b[0m\u001b[0;34m(\u001b[0m\u001b[0mself\u001b[0m\u001b[0;34m)\u001b[0m\u001b[0;34m:\u001b[0m\u001b[0;34m\u001b[0m\u001b[0;34m\u001b[0m\u001b[0m\n",
      "\u001b[0;32m~/Documents/deseabel/deseabel/ocean_ecosystem/maritime_map.py\u001b[0m in \u001b[0;36mcompute_and_add_heatmaps\u001b[0;34m(self, list_noise_impactor)\u001b[0m\n\u001b[1;32m     32\u001b[0m     \u001b[0;32mdef\u001b[0m \u001b[0mcompute_and_add_heatmaps\u001b[0m\u001b[0;34m(\u001b[0m\u001b[0mself\u001b[0m\u001b[0;34m,\u001b[0m \u001b[0mlist_noise_impactor\u001b[0m\u001b[0;34m)\u001b[0m\u001b[0;34m:\u001b[0m\u001b[0;34m\u001b[0m\u001b[0;34m\u001b[0m\u001b[0m\n\u001b[1;32m     33\u001b[0m         \u001b[0;32mfor\u001b[0m \u001b[0mnoise_impactor\u001b[0m \u001b[0;32min\u001b[0m \u001b[0mlist_noise_impactor\u001b[0m\u001b[0;34m:\u001b[0m\u001b[0;34m\u001b[0m\u001b[0;34m\u001b[0m\u001b[0m\n\u001b[0;32m---> 34\u001b[0;31m             \u001b[0mmatrix_decibel\u001b[0m \u001b[0;34m=\u001b[0m \u001b[0mself\u001b[0m\u001b[0;34m.\u001b[0m\u001b[0mcompute_decibel_matrix\u001b[0m\u001b[0;34m(\u001b[0m\u001b[0mnoise_impactor\u001b[0m\u001b[0;34m.\u001b[0m\u001b[0mx0\u001b[0m\u001b[0;34m,\u001b[0m \u001b[0mnoise_impactor\u001b[0m\u001b[0;34m.\u001b[0m\u001b[0my0\u001b[0m\u001b[0;34m,\u001b[0m \u001b[0mnoise_impactor\u001b[0m\u001b[0;34m.\u001b[0m\u001b[0msound_level\u001b[0m\u001b[0;34m)\u001b[0m\u001b[0;34m\u001b[0m\u001b[0;34m\u001b[0m\u001b[0m\n\u001b[0m\u001b[1;32m     35\u001b[0m             \u001b[0mself\u001b[0m\u001b[0;34m.\u001b[0m\u001b[0mmatrix_decibel\u001b[0m \u001b[0;34m=\u001b[0m \u001b[0mself\u001b[0m\u001b[0;34m.\u001b[0m\u001b[0mmatrix_decibel\u001b[0m \u001b[0;34m+\u001b[0m \u001b[0;36m10\u001b[0m \u001b[0;34m*\u001b[0m \u001b[0mnp\u001b[0m\u001b[0;34m.\u001b[0m\u001b[0mlog10\u001b[0m\u001b[0;34m(\u001b[0m\u001b[0;36m10\u001b[0m \u001b[0;34m**\u001b[0m \u001b[0;34m(\u001b[0m\u001b[0mmatrix_decibel\u001b[0m \u001b[0;34m/\u001b[0m \u001b[0;36m10\u001b[0m\u001b[0;34m)\u001b[0m\u001b[0;34m)\u001b[0m\u001b[0;34m\u001b[0m\u001b[0;34m\u001b[0m\u001b[0m\n\u001b[1;32m     36\u001b[0m         \u001b[0mself\u001b[0m\u001b[0;34m.\u001b[0m\u001b[0mmatrix_decibel\u001b[0m\u001b[0;34m[\u001b[0m\u001b[0;34m:\u001b[0m\u001b[0;34m:\u001b[0m\u001b[0;34m-\u001b[0m\u001b[0;36m1\u001b[0m\u001b[0;34m]\u001b[0m  \u001b[0;31m# TODO check if ::-1 is mandatory\u001b[0m\u001b[0;34m\u001b[0m\u001b[0;34m\u001b[0m\u001b[0m\n",
      "\u001b[0;31mAttributeError\u001b[0m: 'FishingBoat' object has no attribute 'x0'"
     ]
    }
   ],
   "source": [
    "simu = Simulator(maritime_map, list_noise_impactor=list_noise_impactor, list_marine_fauna=[])\n",
    "\n",
    "simu.add_noise_impactor(boat3)\n",
    "simu.add_marine_fauna(fish)"
   ]
  },
  {
   "cell_type": "code",
   "execution_count": null,
   "id": "b6784509",
   "metadata": {},
   "outputs": [],
   "source": [
    "simu.list_marine_fauna"
   ]
  },
  {
   "cell_type": "code",
   "execution_count": null,
   "id": "7a0c55a5",
   "metadata": {},
   "outputs": [],
   "source": [
    "simu.compute_marine_fauna_impact(\"fish\")"
   ]
  },
  {
   "cell_type": "code",
   "execution_count": null,
   "id": "0cf5ee8f",
   "metadata": {},
   "outputs": [],
   "source": [
    "simu.update_matrix_decibels_impact_quantified(\"fish\")"
   ]
  },
  {
   "cell_type": "code",
   "execution_count": null,
   "id": "6940bb7e",
   "metadata": {},
   "outputs": [],
   "source": []
  },
  {
   "cell_type": "code",
   "execution_count": null,
   "id": "d1abf0df",
   "metadata": {},
   "outputs": [],
   "source": [
    "seaborn.heatmap(simu.matrix_decibels)"
   ]
  },
  {
   "cell_type": "code",
   "execution_count": null,
   "id": "2c43a132",
   "metadata": {},
   "outputs": [],
   "source": [
    "seaborn.heatmap(simu.matrix_decibels_impact_quantified)"
   ]
  },
  {
   "cell_type": "code",
   "execution_count": null,
   "id": "bf606bdf",
   "metadata": {},
   "outputs": [],
   "source": [
    "boat_speed = 10\n",
    "length, width = 10, 3\n",
    "flotation_surface = length * width\n",
    "\n",
    "reference_sound_power = 10**-10 # Watts\n",
    "reference_flotation_surface = 1 # square meter\n",
    "\n",
    "boat_sound_power = 0.11 * boat_speed + 0.0053 * flotation_surface # Watts\n",
    "\n",
    "sound_level = 10 * np.log10(boat_sound_power / reference_sound_power) + 2 * np.log10(flotation_surface / reference_flotation_surface)\n",
    "sound_level"
   ]
  },
  {
   "cell_type": "code",
   "execution_count": null,
   "id": "7aed8cf1",
   "metadata": {},
   "outputs": [],
   "source": [
    "distance = 100\n"
   ]
  },
  {
   "cell_type": "code",
   "execution_count": null,
   "id": "4aa60733",
   "metadata": {},
   "outputs": [],
   "source": [
    "matrix = np.zeros((100, 100))\n",
    "matrix"
   ]
  },
  {
   "cell_type": "code",
   "execution_count": null,
   "id": "b07d47d5",
   "metadata": {},
   "outputs": [],
   "source": [
    "(xmax-xmin)"
   ]
  },
  {
   "cell_type": "code",
   "execution_count": null,
   "id": "0520f29c",
   "metadata": {},
   "outputs": [],
   "source": [
    "import numpy as np\n",
    "xmin = 10; ymin = 40; xmax = 40; ymax = 100\n",
    "step = 10\n",
    "matrix = np.zeros(((xmax-xmin) // step, (ymax-ymin) // step))\n",
    "matrix"
   ]
  },
  {
   "cell_type": "code",
   "execution_count": null,
   "id": "1ac4fc47",
   "metadata": {},
   "outputs": [],
   "source": [
    "def distance(matrix, x0, y0, step=100):\n",
    "    x, y = np.meshgrid(range(len(matrix)), range(len(matrix[0])))\n",
    "    return np.sqrt((x - x0) ** 2 + (y - y0) ** 2) * step\n",
    "    "
   ]
  },
  {
   "cell_type": "code",
   "execution_count": null,
   "id": "3a965c5b",
   "metadata": {},
   "outputs": [],
   "source": [
    "def sound_propagation(matrix, x0, y0, step=100, sound_level=100):\n",
    "    matrix_distance = distance(matrix, x0, y0, step)\n",
    "    matrix_sound = sound_level - 20 * np.log10(matrix_distance)\n",
    "    matrix_sound[x0, y0] = sound_level\n",
    "    return matrix_sound"
   ]
  },
  {
   "cell_type": "code",
   "execution_count": null,
   "id": "2ed0dc14",
   "metadata": {},
   "outputs": [],
   "source": [
    "matrix_sound = sound_propagation(matrix, x0=50, y0=50, step=100, sound_level=100)\n",
    "matrix_sound"
   ]
  },
  {
   "cell_type": "code",
   "execution_count": null,
   "id": "8d0b0728",
   "metadata": {},
   "outputs": [],
   "source": [
    "matrix_sound.max()"
   ]
  },
  {
   "cell_type": "code",
   "execution_count": null,
   "id": "23e8774b",
   "metadata": {},
   "outputs": [],
   "source": [
    "seaborn.heatmap(matrix_sound)"
   ]
  },
  {
   "cell_type": "code",
   "execution_count": null,
   "id": "a070b2cc",
   "metadata": {},
   "outputs": [],
   "source": [
    "xo, yo = 1, 2"
   ]
  },
  {
   "cell_type": "code",
   "execution_count": null,
   "id": "a38423bd",
   "metadata": {},
   "outputs": [],
   "source": [
    "xo - matrix[:, 1] ** 2"
   ]
  },
  {
   "cell_type": "code",
   "execution_count": null,
   "id": "eca32238",
   "metadata": {},
   "outputs": [],
   "source": [
    "Niveau de pression sonore (en décibels) = 10 * log10 (puissance sonore du bateau / puissance sonore de référence) + 2 * log10 (distance de mesure / distance de référence)\n",
    "\n",
    "La puissance sonore du bateau est généralement estimée en utilisant la formule suivante :\n",
    "\n",
    "Puissance sonore du bateau (en watts) = 0,11 * vitesse du bateau (en noeuds) + 0,0053 * surface de flottaison (en mètres carrés)\n",
    "\n",
    "La puissance sonore de référence est généralement prise comme étant 1 picoWatt (1 * 10^-12 W) et la distance de référence est généralement prise comme étant 1 mètre."
   ]
  },
  {
   "cell_type": "code",
   "execution_count": null,
   "id": "e00f1fdb",
   "metadata": {},
   "outputs": [],
   "source": [
    "initial_sound_level\n",
    "initial_sound_level * np.log10(self.speed / 12)"
   ]
  },
  {
   "cell_type": "code",
   "execution_count": null,
   "id": "6ec1a9a5",
   "metadata": {},
   "outputs": [],
   "source": [
    "fish.spot_gpd"
   ]
  },
  {
   "cell_type": "code",
   "execution_count": null,
   "id": "7f3a034e",
   "metadata": {},
   "outputs": [],
   "source": [
    "within_points = fish.spot_gpd.sjoin(simu.matrix_decibels_quantified_gpd, map, op = 'within')"
   ]
  },
  {
   "cell_type": "code",
   "execution_count": null,
   "id": "c4f24a6e",
   "metadata": {},
   "outputs": [],
   "source": [
    "mask = simu.matrix_decibels_quantified_gpd.within(marine_fauna.spot_gpd.geometry[0])"
   ]
  },
  {
   "cell_type": "code",
   "execution_count": null,
   "id": "121ab148",
   "metadata": {},
   "outputs": [],
   "source": [
    "matrix_decibels_impact_gpd = self.matrix_decibels_quantified_gpd[mask]\n",
    "dict_impact = matrix_decibels_impact_gpd[\"value\"].value_counts().to_dict()\n",
    "array_impact = np.zeros(marine_fauna.array_impact.shape[0])\n",
    "for level in range(len(array_impact)):\n",
    "    array_impact[level] = 0 if level not in dict_impact else dict_impact[level]\n",
    "array_impact = array_impact / array_impact.sum()\n",
    "marine_fauna.set_array_impact(array_impact)"
   ]
  },
  {
   "cell_type": "code",
   "execution_count": null,
   "id": "4505d871",
   "metadata": {},
   "outputs": [],
   "source": [
    "fish.array_impact"
   ]
  },
  {
   "cell_type": "code",
   "execution_count": null,
   "id": "cfce6e7d",
   "metadata": {},
   "outputs": [],
   "source": [
    "boat1.speed = 20"
   ]
  },
  {
   "cell_type": "code",
   "execution_count": null,
   "id": "bf05441b",
   "metadata": {},
   "outputs": [],
   "source": [
    "boat1.set_speed_and_sound_level(20)"
   ]
  },
  {
   "cell_type": "code",
   "execution_count": null,
   "id": "c60352f8",
   "metadata": {},
   "outputs": [],
   "source": [
    "boat1.sound_level"
   ]
  },
  {
   "cell_type": "code",
   "execution_count": null,
   "id": "2d72028f",
   "metadata": {},
   "outputs": [],
   "source": [
    "seaborn.heatmap(simu.matrix_decibels)"
   ]
  },
  {
   "cell_type": "code",
   "execution_count": null,
   "id": "48ab7770",
   "metadata": {},
   "outputs": [],
   "source": [
    "\"\"\"\n",
    "Source level: the amount of sound radiated by a sound source. \n",
    "It is defined as the intensity of the radiated sound at a distance\n",
    "of 1 meter from the source, where intensity is the amount of sound\n",
    "power transmitted through a unit area in a specified direction. \n",
    "Source level is given as a relative intensity in units named \n",
    "decibels (dB). In underwater sound, decibels are referenced to a \n",
    "pressure of 1 microPascal (µPa). Therefore, source level is reported\n",
    "in units of dB re 1 µPa @ 1 m.\n",
    "\n",
    "transmission loss: the decrease in acoustic intensity (due to \n",
    "spreading and/or attenuation) as an underwater sound wave propagates\n",
    "outwards from a source.\n",
    "\n",
    "sound spreading loss: the decrease in intensity that occurs when a\n",
    "sound wave expands as it moves away from a source\n",
    "\n",
    "attenuation: the decrease in the intensity of a wave due to the loss\n",
    "of acoustic energy to heat energy\n",
    "\n",
    "target strength: the amount of sound reflected back toward a sonar \n",
    "by a target.\n",
    "\n",
    "bandwidth: the frequency span of a signal, calculated as the \n",
    "difference between the highest frequency of a signal and the lowest \n",
    "frequency of a signal.\n",
    "\n",
    "\"\"\""
   ]
  },
  {
   "cell_type": "code",
   "execution_count": null,
   "id": "419b171f",
   "metadata": {},
   "outputs": [],
   "source": [
    "# array_gain = 20 dB\n",
    "AG = 20\n",
    "# Typical operating parameters for such a sonar might be\n",
    "# source level = 220 dB re 1 µPa at 1 m\n",
    "SL = 220"
   ]
  },
  {
   "cell_type": "code",
   "execution_count": null,
   "id": "669dab5f",
   "metadata": {},
   "outputs": [],
   "source": [
    "# Spreading loss (dB) = 20 log R = 20 log (10,000) = 80 dB\n",
    "R = 10000\n",
    "spreading_loss = 20 * np.log10(R)\n",
    "# Attenuation (dB) = αR = (0.5 dB/km x 10 km) = 5 dB\n",
    "# aplha = 0.5 dB/km at a frequency of 8,000 Hz\n",
    "alpha = 0.5\n",
    "attenuation = alpha * (R * 1e-3)"
   ]
  },
  {
   "cell_type": "code",
   "execution_count": null,
   "id": "57a426d8",
   "metadata": {},
   "outputs": [],
   "source": [
    "# transmission loss = spreading_loss + attenuation = 80 + 5 = 85 dB\n",
    "TL = spreading_loss + attenuation"
   ]
  },
  {
   "cell_type": "code",
   "execution_count": null,
   "id": "a72dc14b",
   "metadata": {},
   "outputs": [],
   "source": [
    "# target strength for a submarine, as measured broadside to the\n",
    "# submarine, vary widely, but a typical number is 25 dB\n",
    "TS = 25"
   ]
  },
  {
   "cell_type": "code",
   "execution_count": null,
   "id": "3e2d0982",
   "metadata": {},
   "outputs": [],
   "source": [
    "# For a destroyer traveling at 15 knots, a typical self-noise level\n",
    "# in a 1 Hertz wide frequency band at 8,000 Hz might be :\n",
    "# noise level = 63 dB re 1 μPa/√Hz\n",
    "NL = 63"
   ]
  },
  {
   "cell_type": "code",
   "execution_count": null,
   "id": "428a2cbb",
   "metadata": {},
   "outputs": [],
   "source": [
    "# bandwidth (Hz) = 1 / T where T is the sonar pulse length in seconds.\n",
    "# For this example we assume that the sonar transmits a 0.1 second long pulse.\n",
    "T = 0.1\n",
    "BW = 1 / T\n",
    "# NLtotal (dB re 1 µPa) = noise_level + 10 log bandwidth\n",
    "NL_total = NL + 10 * np.log10(BW)"
   ]
  },
  {
   "cell_type": "code",
   "execution_count": null,
   "id": "b44848ae",
   "metadata": {},
   "outputs": [],
   "source": [
    "# signal_to_noise = source_level - 2 * transmission_loss + target_strength - (noise_level - array_gain)\n",
    "SNR = SL - 2 * TL + TS - (NL - AG)"
   ]
  },
  {
   "cell_type": "code",
   "execution_count": null,
   "id": "e6e12686",
   "metadata": {},
   "outputs": [],
   "source": [
    "SNR"
   ]
  },
  {
   "cell_type": "code",
   "execution_count": null,
   "id": "c5fdfed1",
   "metadata": {},
   "outputs": [],
   "source": []
  }
 ],
 "metadata": {
  "kernelspec": {
   "display_name": "Python 3 (ipykernel)",
   "language": "python",
   "name": "python3"
  },
  "language_info": {
   "codemirror_mode": {
    "name": "ipython",
    "version": 3
   },
   "file_extension": ".py",
   "mimetype": "text/x-python",
   "name": "python",
   "nbconvert_exporter": "python",
   "pygments_lexer": "ipython3",
   "version": "3.9.12"
  }
 },
 "nbformat": 4,
 "nbformat_minor": 5
}
