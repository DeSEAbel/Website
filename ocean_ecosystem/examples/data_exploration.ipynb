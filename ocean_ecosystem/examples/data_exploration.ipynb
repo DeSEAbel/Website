{
 "cells": [
  {
   "cell_type": "code",
   "execution_count": 1,
   "id": "7e5ec19e",
   "metadata": {},
   "outputs": [],
   "source": [
    "import geojson\n",
    "from datetime import datetime\n",
    "import pandas as pd\n",
    "import requests"
   ]
  },
  {
   "cell_type": "code",
   "execution_count": 5,
   "id": "000d18e0",
   "metadata": {
    "scrolled": true
   },
   "outputs": [
    {
     "data": {
      "text/html": [
       "<div>\n",
       "<style scoped>\n",
       "    .dataframe tbody tr th:only-of-type {\n",
       "        vertical-align: middle;\n",
       "    }\n",
       "\n",
       "    .dataframe tbody tr th {\n",
       "        vertical-align: top;\n",
       "    }\n",
       "\n",
       "    .dataframe thead th {\n",
       "        text-align: right;\n",
       "    }\n",
       "</style>\n",
       "<table border=\"1\" class=\"dataframe\">\n",
       "  <thead>\n",
       "    <tr style=\"text-align: right;\">\n",
       "      <th></th>\n",
       "      <th>Cruise</th>\n",
       "      <th>Dive</th>\n",
       "      <th>Date</th>\n",
       "      <th>Time</th>\n",
       "      <th>Image.name</th>\n",
       "      <th>Latitude</th>\n",
       "      <th>Longitude</th>\n",
       "      <th>Depth</th>\n",
       "      <th>Habitat</th>\n",
       "      <th>Class</th>\n",
       "      <th>Order</th>\n",
       "      <th>Family</th>\n",
       "      <th>Genus</th>\n",
       "      <th>Species</th>\n",
       "      <th>Final.name</th>\n",
       "      <th>OTU</th>\n",
       "      <th>Nb</th>\n",
       "    </tr>\n",
       "  </thead>\n",
       "  <tbody>\n",
       "    <tr>\n",
       "      <th>0</th>\n",
       "      <td>BobEco</td>\n",
       "      <td>470</td>\n",
       "      <td>21/09/2011</td>\n",
       "      <td>15:00:41</td>\n",
       "      <td>BE470_110921150041</td>\n",
       "      <td>47.585469</td>\n",
       "      <td>-7.527959</td>\n",
       "      <td>1396</td>\n",
       "      <td>CW Antipatharians and/or Gorgonians on Hard Su...</td>\n",
       "      <td>Anthozoa</td>\n",
       "      <td>Alcyonacea</td>\n",
       "      <td>Isididae</td>\n",
       "      <td>Acanella</td>\n",
       "      <td>sp. 2</td>\n",
       "      <td>Acanella sp. 2</td>\n",
       "      <td>IF017</td>\n",
       "      <td>1</td>\n",
       "    </tr>\n",
       "    <tr>\n",
       "      <th>1</th>\n",
       "      <td>BobEco</td>\n",
       "      <td>470</td>\n",
       "      <td>21/09/2011</td>\n",
       "      <td>03:13:41</td>\n",
       "      <td>BE470_110921031341</td>\n",
       "      <td>47.541743</td>\n",
       "      <td>-7.540701</td>\n",
       "      <td>2018</td>\n",
       "      <td>CW Antipatharians and/or Gorgonians on Hard Su...</td>\n",
       "      <td>Anthozoa</td>\n",
       "      <td>Alcyonacea</td>\n",
       "      <td>Isididae</td>\n",
       "      <td>Acanella</td>\n",
       "      <td>sp. 2</td>\n",
       "      <td>Acanella sp. 2</td>\n",
       "      <td>IF017</td>\n",
       "      <td>1</td>\n",
       "    </tr>\n",
       "    <tr>\n",
       "      <th>2</th>\n",
       "      <td>BobEco</td>\n",
       "      <td>472</td>\n",
       "      <td>27/09/2011</td>\n",
       "      <td>01:56:05</td>\n",
       "      <td>BE472_110927015605</td>\n",
       "      <td>48.119262</td>\n",
       "      <td>-9.151569</td>\n",
       "      <td>1820</td>\n",
       "      <td>CW Antipatharians and/or Gorgonians on Hard Su...</td>\n",
       "      <td>Anthozoa</td>\n",
       "      <td>Alcyonacea</td>\n",
       "      <td>Plexauridae</td>\n",
       "      <td>NaN</td>\n",
       "      <td>sp. 1</td>\n",
       "      <td>Plexauridae sp. 1</td>\n",
       "      <td>IF073</td>\n",
       "      <td>3</td>\n",
       "    </tr>\n",
       "    <tr>\n",
       "      <th>3</th>\n",
       "      <td>BobEco</td>\n",
       "      <td>466</td>\n",
       "      <td>14/09/2011</td>\n",
       "      <td>00:11:34</td>\n",
       "      <td>BE466_110915001134</td>\n",
       "      <td>45.681601</td>\n",
       "      <td>-3.620943</td>\n",
       "      <td>736</td>\n",
       "      <td>CW Antipatharians and/or Gorgonians on Hard Su...</td>\n",
       "      <td>Anthozoa</td>\n",
       "      <td>NaN</td>\n",
       "      <td>NaN</td>\n",
       "      <td>NaN</td>\n",
       "      <td>spp.</td>\n",
       "      <td>Anthozoa spp.</td>\n",
       "      <td>IF145</td>\n",
       "      <td>4</td>\n",
       "    </tr>\n",
       "    <tr>\n",
       "      <th>4</th>\n",
       "      <td>Evhoe 2011</td>\n",
       "      <td>3</td>\n",
       "      <td>08/11/2011</td>\n",
       "      <td>19:50:04</td>\n",
       "      <td>EVH11-PL03-SCAN1-20111108-195004-000</td>\n",
       "      <td>47.499124</td>\n",
       "      <td>-7.124179</td>\n",
       "      <td>1432</td>\n",
       "      <td>CW Antipatharians and/or Gorgonians on Hard Su...</td>\n",
       "      <td>Anthozoa</td>\n",
       "      <td>Scleractinia</td>\n",
       "      <td>NaN</td>\n",
       "      <td>NaN</td>\n",
       "      <td>solitary coral spp.</td>\n",
       "      <td>solitary coral spp.</td>\n",
       "      <td>IF170</td>\n",
       "      <td>1</td>\n",
       "    </tr>\n",
       "    <tr>\n",
       "      <th>...</th>\n",
       "      <td>...</td>\n",
       "      <td>...</td>\n",
       "      <td>...</td>\n",
       "      <td>...</td>\n",
       "      <td>...</td>\n",
       "      <td>...</td>\n",
       "      <td>...</td>\n",
       "      <td>...</td>\n",
       "      <td>...</td>\n",
       "      <td>...</td>\n",
       "      <td>...</td>\n",
       "      <td>...</td>\n",
       "      <td>...</td>\n",
       "      <td>...</td>\n",
       "      <td>...</td>\n",
       "      <td>...</td>\n",
       "      <td>...</td>\n",
       "    </tr>\n",
       "    <tr>\n",
       "      <th>3572</th>\n",
       "      <td>Evhoe 2011</td>\n",
       "      <td>3</td>\n",
       "      <td>08/11/2011</td>\n",
       "      <td>18:46:04</td>\n",
       "      <td>EVH11-PL03-SCAN1-20111108-184604-000</td>\n",
       "      <td>47.513825</td>\n",
       "      <td>-7.135817</td>\n",
       "      <td>891</td>\n",
       "      <td>Solitary Scleractinians on Soft Substrate</td>\n",
       "      <td>Anthozoa</td>\n",
       "      <td>Scleractinia</td>\n",
       "      <td>Flabellidae</td>\n",
       "      <td>NaN</td>\n",
       "      <td>sp. 1</td>\n",
       "      <td>Flabellidae sp. 1</td>\n",
       "      <td>IF140</td>\n",
       "      <td>2</td>\n",
       "    </tr>\n",
       "    <tr>\n",
       "      <th>3573</th>\n",
       "      <td>Evhoe 2011</td>\n",
       "      <td>3</td>\n",
       "      <td>08/11/2011</td>\n",
       "      <td>18:47:04</td>\n",
       "      <td>EVH11-PL03-SCAN1-20111108-184704-000</td>\n",
       "      <td>47.513466</td>\n",
       "      <td>-7.135769</td>\n",
       "      <td>894</td>\n",
       "      <td>Solitary Scleractinians on Soft Substrate</td>\n",
       "      <td>Anthozoa</td>\n",
       "      <td>Scleractinia</td>\n",
       "      <td>Flabellidae</td>\n",
       "      <td>NaN</td>\n",
       "      <td>sp. 1</td>\n",
       "      <td>Flabellidae sp. 1</td>\n",
       "      <td>IF140</td>\n",
       "      <td>1</td>\n",
       "    </tr>\n",
       "    <tr>\n",
       "      <th>3574</th>\n",
       "      <td>Evhoe 2011</td>\n",
       "      <td>3</td>\n",
       "      <td>08/11/2011</td>\n",
       "      <td>18:46:04</td>\n",
       "      <td>EVH11-PL03-SCAN1-20111108-184604-000</td>\n",
       "      <td>47.513825</td>\n",
       "      <td>-7.135817</td>\n",
       "      <td>891</td>\n",
       "      <td>Solitary Scleractinians on Soft Substrate</td>\n",
       "      <td>Anthozoa</td>\n",
       "      <td>NaN</td>\n",
       "      <td>NaN</td>\n",
       "      <td>NaN</td>\n",
       "      <td>spp.</td>\n",
       "      <td>Anthozoa spp.</td>\n",
       "      <td>IF145</td>\n",
       "      <td>1</td>\n",
       "    </tr>\n",
       "    <tr>\n",
       "      <th>3575</th>\n",
       "      <td>Evhoe 2011</td>\n",
       "      <td>3</td>\n",
       "      <td>08/11/2011</td>\n",
       "      <td>18:18:04</td>\n",
       "      <td>EVH11-PL03-SCAN1-20111108-181804-000</td>\n",
       "      <td>47.518285</td>\n",
       "      <td>-7.139910</td>\n",
       "      <td>770</td>\n",
       "      <td>Solitary Scleractinians on Soft Substrate</td>\n",
       "      <td>Anthozoa</td>\n",
       "      <td>Scleractinia</td>\n",
       "      <td>Flabellidae</td>\n",
       "      <td>NaN</td>\n",
       "      <td>sp. 1</td>\n",
       "      <td>Flabellidae sp. 1</td>\n",
       "      <td>IF140</td>\n",
       "      <td>2</td>\n",
       "    </tr>\n",
       "    <tr>\n",
       "      <th>3576</th>\n",
       "      <td>BobGeo 1</td>\n",
       "      <td>4</td>\n",
       "      <td>18/10/2009</td>\n",
       "      <td>05:20:23</td>\n",
       "      <td>pl4-20091018-052023</td>\n",
       "      <td>47.576694</td>\n",
       "      <td>-7.361125</td>\n",
       "      <td>826</td>\n",
       "      <td>Solitary Scleractinians on Soft Substrate</td>\n",
       "      <td>Anthozoa</td>\n",
       "      <td>Pennatulacea</td>\n",
       "      <td>Kophobelemnidae</td>\n",
       "      <td>Kophobelemnon</td>\n",
       "      <td>cf. stelliferum</td>\n",
       "      <td>Kophobelemnon cf. stelliferum</td>\n",
       "      <td>IF154</td>\n",
       "      <td>1</td>\n",
       "    </tr>\n",
       "  </tbody>\n",
       "</table>\n",
       "<p>3577 rows × 17 columns</p>\n",
       "</div>"
      ],
      "text/plain": [
       "          Cruise  Dive        Date      Time  \\\n",
       "0         BobEco   470  21/09/2011  15:00:41   \n",
       "1         BobEco   470  21/09/2011  03:13:41   \n",
       "2         BobEco   472  27/09/2011  01:56:05   \n",
       "3         BobEco   466  14/09/2011  00:11:34   \n",
       "4     Evhoe 2011     3  08/11/2011  19:50:04   \n",
       "...          ...   ...         ...       ...   \n",
       "3572  Evhoe 2011     3  08/11/2011  18:46:04   \n",
       "3573  Evhoe 2011     3  08/11/2011  18:47:04   \n",
       "3574  Evhoe 2011     3  08/11/2011  18:46:04   \n",
       "3575  Evhoe 2011     3  08/11/2011  18:18:04   \n",
       "3576    BobGeo 1     4  18/10/2009  05:20:23   \n",
       "\n",
       "                                Image.name   Latitude  Longitude  Depth  \\\n",
       "0                       BE470_110921150041  47.585469  -7.527959   1396   \n",
       "1                       BE470_110921031341  47.541743  -7.540701   2018   \n",
       "2                       BE472_110927015605  48.119262  -9.151569   1820   \n",
       "3                       BE466_110915001134  45.681601  -3.620943    736   \n",
       "4     EVH11-PL03-SCAN1-20111108-195004-000  47.499124  -7.124179   1432   \n",
       "...                                    ...        ...        ...    ...   \n",
       "3572  EVH11-PL03-SCAN1-20111108-184604-000  47.513825  -7.135817    891   \n",
       "3573  EVH11-PL03-SCAN1-20111108-184704-000  47.513466  -7.135769    894   \n",
       "3574  EVH11-PL03-SCAN1-20111108-184604-000  47.513825  -7.135817    891   \n",
       "3575  EVH11-PL03-SCAN1-20111108-181804-000  47.518285  -7.139910    770   \n",
       "3576                   pl4-20091018-052023  47.576694  -7.361125    826   \n",
       "\n",
       "                                                Habitat     Class  \\\n",
       "0     CW Antipatharians and/or Gorgonians on Hard Su...  Anthozoa   \n",
       "1     CW Antipatharians and/or Gorgonians on Hard Su...  Anthozoa   \n",
       "2     CW Antipatharians and/or Gorgonians on Hard Su...  Anthozoa   \n",
       "3     CW Antipatharians and/or Gorgonians on Hard Su...  Anthozoa   \n",
       "4     CW Antipatharians and/or Gorgonians on Hard Su...  Anthozoa   \n",
       "...                                                 ...       ...   \n",
       "3572          Solitary Scleractinians on Soft Substrate  Anthozoa   \n",
       "3573          Solitary Scleractinians on Soft Substrate  Anthozoa   \n",
       "3574          Solitary Scleractinians on Soft Substrate  Anthozoa   \n",
       "3575          Solitary Scleractinians on Soft Substrate  Anthozoa   \n",
       "3576          Solitary Scleractinians on Soft Substrate  Anthozoa   \n",
       "\n",
       "             Order           Family          Genus              Species  \\\n",
       "0       Alcyonacea         Isididae       Acanella                sp. 2   \n",
       "1       Alcyonacea         Isididae       Acanella                sp. 2   \n",
       "2       Alcyonacea      Plexauridae            NaN                sp. 1   \n",
       "3              NaN              NaN            NaN                 spp.   \n",
       "4     Scleractinia              NaN            NaN  solitary coral spp.   \n",
       "...            ...              ...            ...                  ...   \n",
       "3572  Scleractinia      Flabellidae            NaN                sp. 1   \n",
       "3573  Scleractinia      Flabellidae            NaN                sp. 1   \n",
       "3574           NaN              NaN            NaN                 spp.   \n",
       "3575  Scleractinia      Flabellidae            NaN                sp. 1   \n",
       "3576  Pennatulacea  Kophobelemnidae  Kophobelemnon      cf. stelliferum   \n",
       "\n",
       "                         Final.name    OTU  Nb  \n",
       "0                    Acanella sp. 2  IF017   1  \n",
       "1                    Acanella sp. 2  IF017   1  \n",
       "2                 Plexauridae sp. 1  IF073   3  \n",
       "3                     Anthozoa spp.  IF145   4  \n",
       "4               solitary coral spp.  IF170   1  \n",
       "...                             ...    ...  ..  \n",
       "3572              Flabellidae sp. 1  IF140   2  \n",
       "3573              Flabellidae sp. 1  IF140   1  \n",
       "3574                  Anthozoa spp.  IF145   1  \n",
       "3575              Flabellidae sp. 1  IF140   2  \n",
       "3576  Kophobelemnon cf. stelliferum  IF154   1  \n",
       "\n",
       "[3577 rows x 17 columns]"
      ]
     },
     "execution_count": 5,
     "metadata": {},
     "output_type": "execute_result"
    }
   ],
   "source": [
    "pd.read_csv(\"../data/54152.csv\", encoding=\"latin-1\", sep=\";\")"
   ]
  },
  {
   "cell_type": "code",
   "execution_count": 2,
   "id": "cfe081d1",
   "metadata": {},
   "outputs": [
    {
     "name": "stdout",
     "output_type": "stream",
     "text": [
      "Untitled.ipynb\r\n"
     ]
    }
   ],
   "source": [
    "!ls"
   ]
  },
  {
   "cell_type": "code",
   "execution_count": 49,
   "id": "f261bd18",
   "metadata": {},
   "outputs": [],
   "source": [
    "\n",
    "with open(\"../data/parcours_navir/CAMPAGNE_LIGNE.geojson\") as f:\n",
    "    gj = geojson.load(f)\n",
    "features = gj['features'][0]"
   ]
  },
  {
   "cell_type": "code",
   "execution_count": 51,
   "id": "ada56319",
   "metadata": {},
   "outputs": [
    {
     "data": {
      "text/plain": [
       "4729"
      ]
     },
     "execution_count": 51,
     "metadata": {},
     "output_type": "execute_result"
    }
   ],
   "source": [
    "len(gj['features'])"
   ]
  },
  {
   "cell_type": "code",
   "execution_count": 54,
   "id": "4aa06569",
   "metadata": {},
   "outputs": [],
   "source": [
    "# format\n",
    "format = '%Y-%m-%d'\n",
    "\n",
    "features = [x for x in gj[\"features\"] if datetime.strptime(x[\"properties\"][\"START_DATE\"], format).year == 2021]"
   ]
  },
  {
   "cell_type": "code",
   "execution_count": 38,
   "id": "e4f246db",
   "metadata": {},
   "outputs": [
    {
     "data": {
      "text/plain": [
       "'1984-01-09'"
      ]
     },
     "execution_count": 38,
     "metadata": {},
     "output_type": "execute_result"
    }
   ],
   "source": [
    "gj[\"features\"][0][\"properties\"][\"START_DATE\"]"
   ]
  },
  {
   "cell_type": "code",
   "execution_count": 42,
   "id": "77754e1a",
   "metadata": {},
   "outputs": [],
   "source": [
    "\n",
    "  \n",
    "# convert from string format to datetime format\n",
    "date = datetime.strptime(input, format)"
   ]
  },
  {
   "cell_type": "code",
   "execution_count": 45,
   "id": "269c729a",
   "metadata": {},
   "outputs": [
    {
     "data": {
      "text/plain": [
       "False"
      ]
     },
     "execution_count": 45,
     "metadata": {},
     "output_type": "execute_result"
    }
   ],
   "source": [
    "date.year == 2022"
   ]
  },
  {
   "cell_type": "code",
   "execution_count": 14,
   "id": "ac7bd5c3",
   "metadata": {},
   "outputs": [
    {
     "data": {
      "text/plain": [
       "dict_keys(['type', 'name', 'crs', 'features'])"
      ]
     },
     "execution_count": 14,
     "metadata": {},
     "output_type": "execute_result"
    }
   ],
   "source": [
    "gj.keys()"
   ]
  },
  {
   "cell_type": "code",
   "execution_count": 9,
   "id": "e74f5b17",
   "metadata": {},
   "outputs": [],
   "source": [
    "with open(\"../data/emission_impulsive_forte_2016/DCSMM2018_D11C1.3.geojson\") as f:\n",
    "    gj = geojson.load(f)\n",
    "features = gj['features'][0]"
   ]
  },
  {
   "cell_type": "code",
   "execution_count": 10,
   "id": "189dbce7",
   "metadata": {},
   "outputs": [
    {
     "data": {
      "text/plain": [
       "{\"geometry\": {\"coordinates\": [[[3.875, 51.125], [4.125, 51.125], [4.125, 50.875], [3.875, 50.875], [3.875, 51.125]]], \"type\": \"Polygon\"}, \"id\": 500, \"properties\": {\"GGN\": null, \"GGS\": null, \"MC\": null, \"MMN\": null, \"MO\": null, \"ZEE\": null, \"id\": 504, \"lat\": 51.0, \"lon\": 4.0, \"xmax\": 4.125, \"xmin\": 3.875, \"ymax\": 51.125, \"ymin\": 50.875}, \"type\": \"Feature\"}"
      ]
     },
     "execution_count": 10,
     "metadata": {},
     "output_type": "execute_result"
    }
   ],
   "source": [
    "gj['features'][500]"
   ]
  },
  {
   "cell_type": "code",
   "execution_count": 7,
   "id": "c24a4b3a",
   "metadata": {},
   "outputs": [
    {
     "data": {
      "text/plain": [
       "dict_keys(['type', 'name', 'crs', 'features'])"
      ]
     },
     "execution_count": 7,
     "metadata": {},
     "output_type": "execute_result"
    }
   ],
   "source": [
    "gj.keys()"
   ]
  },
  {
   "cell_type": "code",
   "execution_count": 58,
   "id": "5ee2ba8f",
   "metadata": {},
   "outputs": [],
   "source": [
    "min_longitude = -2.250511\n",
    "max_longitude = -0.802813\n",
    "min_latitude = 45.670575\n",
    "max_latitude = 46.378693\n",
    "top_left = (max_latitude, min_longitude)\n",
    "top_right = (max_latitude, max_longitude)\n",
    "bottom_left = (min_latitude, min_longitude)\n",
    "bottom_right = (min_latitude, max_longitude)"
   ]
  },
  {
   "cell_type": "markdown",
   "id": "2b33feb3",
   "metadata": {},
   "source": [
    "# Position des bateaux"
   ]
  },
  {
   "cell_type": "code",
   "execution_count": 37,
   "id": "93e5d680",
   "metadata": {},
   "outputs": [],
   "source": [
    "api_key = \"af3f41ea705f7881e533cdac088cfe72c154be34\""
   ]
  },
  {
   "cell_type": "code",
   "execution_count": 41,
   "id": "f9b857d4",
   "metadata": {},
   "outputs": [
    {
     "data": {
      "text/plain": [
       "'https://services.marinetraffic.com/api/exportvesseltrack'"
      ]
     },
     "execution_count": 41,
     "metadata": {},
     "output_type": "execute_result"
    }
   ],
   "source": [
    "url = \"https://services.marinetraffic.com/api/exportvesseltrack\"\n",
    "url"
   ]
  },
  {
   "cell_type": "code",
   "execution_count": 39,
   "id": "811dc3a9",
   "metadata": {},
   "outputs": [
    {
     "data": {
      "text/plain": [
       "<Response [400]>"
      ]
     },
     "execution_count": 39,
     "metadata": {},
     "output_type": "execute_result"
    }
   ],
   "source": [
    "headers = {'Content-Type': 'application/json'}\n",
    "res = requests.get(url, headers=headers, params={\"api_key\": api_key})\n",
    "res"
   ]
  },
  {
   "cell_type": "code",
   "execution_count": 40,
   "id": "25e40d15",
   "metadata": {},
   "outputs": [
    {
     "data": {
      "text/plain": [
       "'<?xml version=\"1.0\" encoding=\"UTF-8\"?>\\n<RESPONSE>\\n    <STATUS>\\n        <ERROR CODE=\"2a9\" DESCRIPTION=\"MANDATORY FIELD MISSING\"/>\\n    </STATUS>\\n</RESPONSE>'"
      ]
     },
     "execution_count": 40,
     "metadata": {},
     "output_type": "execute_result"
    }
   ],
   "source": [
    "res.text"
   ]
  },
  {
   "cell_type": "code",
   "execution_count": 66,
   "id": "00fd8b6e",
   "metadata": {},
   "outputs": [],
   "source": [
    "from marinetrafficapi import MarineTrafficApi\n",
    "from tqdm.notebook import tqdm\n",
    "\n",
    "api = MarineTrafficApi(api_key=\"af3f41ea705f7881e533cdac088cfe72c154be34\")"
   ]
  },
  {
   "cell_type": "code",
   "execution_count": 72,
   "id": "74604cf2",
   "metadata": {},
   "outputs": [
    {
     "data": {
      "text/plain": [
       "0"
      ]
     },
     "execution_count": 72,
     "metadata": {},
     "output_type": "execute_result"
    }
   ],
   "source": [
    "int(max_latitude - min_latitude)"
   ]
  },
  {
   "cell_type": "code",
   "execution_count": 70,
   "id": "4a1ed25a",
   "metadata": {},
   "outputs": [
    {
     "data": {
      "application/vnd.jupyter.widget-view+json": {
       "model_id": "2dd08cf6634a468f999cbed9bfaa392f",
       "version_major": 2,
       "version_minor": 0
      },
      "text/plain": [
       "  0%|          | 0/1 [00:00<?, ?it/s]"
      ]
     },
     "metadata": {},
     "output_type": "display_data"
    }
   ],
   "source": [
    "la_rochelle_vessel_position = []\n",
    "current_lat, current_long = min_latitude, min_longitude\n",
    "for lat_delta in tqdm(range(int(max_latitude - min_latitude) + 1)):\n",
    "    for long_delta in range(int(max_longitude - min_longitude) + 1):\n",
    "        vessel_positions = api.vessel_historical_track(period='daily', \n",
    "                                                       days=3, \n",
    "                                                       mmsi=241486000,\n",
    "                                                       min_longitude=current_long,\n",
    "                                                       max_longitude=current_long + long_delta,\n",
    "                                                       min_latitude=current_lat,\n",
    "                                                       max_latitude=current_lat + lat_delta)\n",
    "        current_lat, current_long = current_lat + lat_delta, current_long + long_delta\n",
    "        la_rochelle_vessel_position += vessel_positions.to_list"
   ]
  },
  {
   "cell_type": "code",
   "execution_count": 73,
   "id": "075ff46f",
   "metadata": {},
   "outputs": [
    {
     "ename": "MarineTrafficRequestApiException",
     "evalue": "Request errors: code 5a2: INSUFFICIENT CREDITS. You currently have 6 credits while 389 is/are required to fulfil this API call. You can purchase additional credits at: https://www.marinetraffic.com/en/online-services/plans?id=credits",
     "output_type": "error",
     "traceback": [
      "\u001b[0;31m---------------------------------------------------------------------------\u001b[0m",
      "\u001b[0;31mMarineTrafficRequestApiException\u001b[0m          Traceback (most recent call last)",
      "Input \u001b[0;32mIn [73]\u001b[0m, in \u001b[0;36m<cell line: 1>\u001b[0;34m()\u001b[0m\n\u001b[0;32m----> 1\u001b[0m vessel_positions \u001b[38;5;241m=\u001b[39m \u001b[43mapi\u001b[49m\u001b[38;5;241;43m.\u001b[39;49m\u001b[43mvessel_historical_track\u001b[49m\u001b[43m(\u001b[49m\u001b[43mperiod\u001b[49m\u001b[38;5;241;43m=\u001b[39;49m\u001b[38;5;124;43m'\u001b[39;49m\u001b[38;5;124;43mdaily\u001b[39;49m\u001b[38;5;124;43m'\u001b[39;49m\u001b[43m,\u001b[49m\u001b[43m \u001b[49m\n\u001b[1;32m      2\u001b[0m \u001b[43m                                               \u001b[49m\u001b[43mdays\u001b[49m\u001b[38;5;241;43m=\u001b[39;49m\u001b[38;5;241;43m3\u001b[39;49m\u001b[43m,\u001b[49m\u001b[43m \u001b[49m\n\u001b[1;32m      3\u001b[0m \u001b[43m                                               \u001b[49m\u001b[43mmin_longitude\u001b[49m\u001b[38;5;241;43m=\u001b[39;49m\u001b[43mmin_longitude\u001b[49m\u001b[43m,\u001b[49m\n\u001b[1;32m      4\u001b[0m \u001b[43m                                               \u001b[49m\u001b[43mmax_longitude\u001b[49m\u001b[38;5;241;43m=\u001b[39;49m\u001b[43mmin_longitude\u001b[49m\u001b[38;5;241;43m+\u001b[39;49m\u001b[38;5;241;43m1\u001b[39;49m\u001b[43m,\u001b[49m\n\u001b[1;32m      5\u001b[0m \u001b[43m                                               \u001b[49m\u001b[43mmin_latitude\u001b[49m\u001b[38;5;241;43m=\u001b[39;49m\u001b[43mmin_latitude\u001b[49m\u001b[43m,\u001b[49m\n\u001b[1;32m      6\u001b[0m \u001b[43m                                               \u001b[49m\u001b[43mmax_latitude\u001b[49m\u001b[38;5;241;43m=\u001b[39;49m\u001b[43mmin_latitude\u001b[49m\u001b[38;5;241;43m+\u001b[39;49m\u001b[38;5;241;43m1\u001b[39;49m\u001b[43m)\u001b[49m\n",
      "File \u001b[0;32m~/anaconda3/lib/python3.9/site-packages/marinetrafficapi/bind.py:204\u001b[0m, in \u001b[0;36mbind_request.<locals>.call\u001b[0;34m(client, *path_params, **query_params)\u001b[0m\n\u001b[1;32m    202\u001b[0m \u001b[38;5;28;01mwith\u001b[39;00m Debug(client\u001b[38;5;241m=\u001b[39mclient) \u001b[38;5;28;01mas\u001b[39;00m debug:\n\u001b[1;32m    203\u001b[0m     request \u001b[38;5;241m=\u001b[39m Request(client, debug, \u001b[38;5;241m*\u001b[39mpath_params, \u001b[38;5;241m*\u001b[39m\u001b[38;5;241m*\u001b[39mquery_params)\n\u001b[0;32m--> 204\u001b[0m     \u001b[38;5;28;01mreturn\u001b[39;00m \u001b[43mrequest\u001b[49m\u001b[38;5;241;43m.\u001b[39;49m\u001b[43mcall\u001b[49m\u001b[43m(\u001b[49m\u001b[43m)\u001b[49m\n",
      "File \u001b[0;32m~/anaconda3/lib/python3.9/site-packages/marinetrafficapi/bind.py:188\u001b[0m, in \u001b[0;36mbind_request.<locals>.Request.call\u001b[0;34m(self)\u001b[0m\n\u001b[1;32m    186\u001b[0m \u001b[38;5;28mself\u001b[39m\u001b[38;5;241m.\u001b[39murl \u001b[38;5;241m=\u001b[39m \u001b[38;5;28mself\u001b[39m\u001b[38;5;241m.\u001b[39m_prepare_url()\n\u001b[1;32m    187\u001b[0m status_code, response \u001b[38;5;241m=\u001b[39m \u001b[38;5;28mself\u001b[39m\u001b[38;5;241m.\u001b[39m_do_request(\u001b[38;5;28mself\u001b[39m\u001b[38;5;241m.\u001b[39murl)\n\u001b[0;32m--> 188\u001b[0m \u001b[38;5;28;01mreturn\u001b[39;00m \u001b[38;5;28;43mself\u001b[39;49m\u001b[38;5;241;43m.\u001b[39;49m\u001b[43m_process_response\u001b[49m\u001b[43m(\u001b[49m\u001b[43mstatus_code\u001b[49m\u001b[43m,\u001b[49m\u001b[43m \u001b[49m\u001b[43mresponse\u001b[49m\u001b[43m)\u001b[49m\n",
      "File \u001b[0;32m~/anaconda3/lib/python3.9/site-packages/marinetrafficapi/bind.py:173\u001b[0m, in \u001b[0;36mbind_request.<locals>.Request._process_response\u001b[0;34m(self, status_code, response)\u001b[0m\n\u001b[1;32m    167\u001b[0m     error_codes \u001b[38;5;241m=\u001b[39m \u001b[38;5;124m'\u001b[39m\u001b[38;5;124m'\u001b[39m\u001b[38;5;241m.\u001b[39mjoin([\u001b[38;5;124m'\u001b[39m\u001b[38;5;124mcode \u001b[39m\u001b[38;5;132;01m{}\u001b[39;00m\u001b[38;5;124m: \u001b[39m\u001b[38;5;132;01m{}\u001b[39;00m\u001b[38;5;124m'\u001b[39m\u001b[38;5;241m.\u001b[39mformat(\n\u001b[1;32m    168\u001b[0m         error[ResponseConst\u001b[38;5;241m.\u001b[39mCODE], error[ResponseConst\u001b[38;5;241m.\u001b[39mDETAIL])\n\u001b[1;32m    169\u001b[0m                            \u001b[38;5;28;01mfor\u001b[39;00m error \u001b[38;5;129;01min\u001b[39;00m error_response[\u001b[38;5;124m'\u001b[39m\u001b[38;5;124merrors\u001b[39m\u001b[38;5;124m'\u001b[39m]])\n\u001b[1;32m    171\u001b[0m     msg \u001b[38;5;241m=\u001b[39m \u001b[38;5;124m'\u001b[39m\u001b[38;5;124mRequest errors: \u001b[39m\u001b[38;5;132;01m{}\u001b[39;00m\u001b[38;5;124m'\u001b[39m\u001b[38;5;241m.\u001b[39mformat(error_codes)\n\u001b[0;32m--> 173\u001b[0m     \u001b[38;5;28;01mraise\u001b[39;00m MarineTrafficRequestApiException(msg)\n\u001b[1;32m    174\u001b[0m \u001b[38;5;28;01melse\u001b[39;00m:\n\u001b[1;32m    175\u001b[0m     \u001b[38;5;28mself\u001b[39m\u001b[38;5;241m.\u001b[39mdebug\u001b[38;5;241m.\u001b[39mok(ResponseConst\u001b[38;5;241m.\u001b[39mSTATUS_CODE, status_code)\n",
      "\u001b[0;31mMarineTrafficRequestApiException\u001b[0m: Request errors: code 5a2: INSUFFICIENT CREDITS. You currently have 6 credits while 389 is/are required to fulfil this API call. You can purchase additional credits at: https://www.marinetraffic.com/en/online-services/plans?id=credits"
     ]
    }
   ],
   "source": [
    "vessel_positions = api.vessel_historical_track(period='daily', \n",
    "                                               days=3, \n",
    "                                               min_longitude=min_longitude,\n",
    "                                               max_longitude=min_longitude+1,\n",
    "                                               min_latitude=min_latitude,\n",
    "                                               max_latitude=min_latitude+1)"
   ]
  },
  {
   "cell_type": "code",
   "execution_count": 69,
   "id": "0a2abef6",
   "metadata": {},
   "outputs": [
    {
     "data": {
      "text/plain": [
       "[]"
      ]
     },
     "execution_count": 69,
     "metadata": {},
     "output_type": "execute_result"
    }
   ],
   "source": [
    "vessel_positions.to_list"
   ]
  },
  {
   "cell_type": "code",
   "execution_count": 48,
   "id": "19df7eda",
   "metadata": {},
   "outputs": [
    {
     "name": "stdout",
     "output_type": "stream",
     "text": [
      "Default params:\n",
      "\u001b[40m+----------+------------------------------+-----------+-------------------------------------------------------------------------+\n",
      "| name     | type                         | arguments | description                                                             |\n",
      "+----------+------------------------------+-----------+-------------------------------------------------------------------------+\n",
      "| \u001b[32mprotocol\u001b[0m | \u001b[34m\u001b[1m<aenum 'DefaultQueryParams'>\u001b[0m |           | Response type. Use one of the following: xml, csv, json, jsono (object) |\n",
      "+----------+------------------------------+-----------+-------------------------------------------------------------------------+\n",
      "| \u001b[32mmsg_type\u001b[0m | \u001b[34m\u001b[1m<aenum 'DefaultQueryParams'>\u001b[0m |           | simple or extended (extended cost more credits)                         |\n",
      "+----------+------------------------------+-----------+-------------------------------------------------------------------------+\u001b[0m\u001b[0m\n",
      "PS01QueryParams params:\n",
      "\u001b[40m+---------------+---------------------------+-----------+----------------------------------------------------------+\n",
      "| name          | type                      | arguments | description                                              |\n",
      "+---------------+---------------------------+-----------+----------------------------------------------------------+\n",
      "| \u001b[32mship_id\u001b[0m       | \u001b[34m\u001b[1m<aenum 'PS01QueryParams'>\u001b[0m |           | A uniquely assigned ID by MarineTraffic                  |\n",
      "|               |                           |           | for the subject vessel.                                  |\n",
      "+---------------+---------------------------+-----------+----------------------------------------------------------+\n",
      "| \u001b[32mperiod\u001b[0m        | \u001b[34m\u001b[1m<aenum 'PS01QueryParams'>\u001b[0m |           | Possible values:                                         |\n",
      "|               |                           |           | hourly: In order to receive hourly vessel positions      |\n",
      "|               |                           |           | daily: In order to receive daily vessel positions        |\n",
      "+---------------+---------------------------+-----------+----------------------------------------------------------+\n",
      "| \u001b[32mmmsi\u001b[0m          | \u001b[34m\u001b[1m<aenum 'PS01QueryParams'>\u001b[0m |           | The Maritime Mobile Service Identity (MMSI)              |\n",
      "|               |                           |           | of the vessel you wish to track.                         |\n",
      "+---------------+---------------------------+-----------+----------------------------------------------------------+\n",
      "| \u001b[32mmin_longitude\u001b[0m | \u001b[34m\u001b[1m<aenum 'PS01QueryParams'>\u001b[0m |           | Minimum longitude                                        |\n",
      "+---------------+---------------------------+-----------+----------------------------------------------------------+\n",
      "| \u001b[32mmin_latitude\u001b[0m  | \u001b[34m\u001b[1m<aenum 'PS01QueryParams'>\u001b[0m |           | Minimum latitude                                         |\n",
      "+---------------+---------------------------+-----------+----------------------------------------------------------+\n",
      "| \u001b[32mmax_longitude\u001b[0m | \u001b[34m\u001b[1m<aenum 'PS01QueryParams'>\u001b[0m |           | Maximum longitude                                        |\n",
      "+---------------+---------------------------+-----------+----------------------------------------------------------+\n",
      "| \u001b[32mmax_latitude\u001b[0m  | \u001b[34m\u001b[1m<aenum 'PS01QueryParams'>\u001b[0m |           | Maximum latitude                                         |\n",
      "+---------------+---------------------------+-----------+----------------------------------------------------------+\n",
      "| \u001b[32mimo\u001b[0m           | \u001b[34m\u001b[1m<aenum 'PS01QueryParams'>\u001b[0m |           | The International Maritime Organization (IMO)            |\n",
      "|               |                           |           | number of the vessel you wish to track.                  |\n",
      "+---------------+---------------------------+-----------+----------------------------------------------------------+\n",
      "| \u001b[32mdays\u001b[0m          | \u001b[34m\u001b[1m<aenum 'PS01QueryParams'>\u001b[0m |           | The number of days, starting from the time of request    |\n",
      "|               |                           |           | and going backwards, for which the response should look  |\n",
      "|               |                           |           | for position data. Maximum value is 190 (days).          |\n",
      "+---------------+---------------------------+-----------+----------------------------------------------------------+\n",
      "| \u001b[32mdate_to\u001b[0m       | \u001b[34m\u001b[1m<aenum 'PS01QueryParams'>\u001b[0m |           | To date format: YYYY-MM-DD HH:MM:SS.                     |\n",
      "|               |                           |           | If absent, current date will be selected.                |\n",
      "+---------------+---------------------------+-----------+----------------------------------------------------------+\n",
      "| \u001b[32mdate_from\u001b[0m     | \u001b[34m\u001b[1m<aenum 'PS01QueryParams'>\u001b[0m |           | From date format: YYYY-MM-DD HH:MM:SS.                   |\n",
      "|               |                           |           | If absent, current date will be selected.                |\n",
      "+---------------+---------------------------+-----------+----------------------------------------------------------+\u001b[0m\u001b[0m\n"
     ]
    }
   ],
   "source": [
    "MarineTrafficApi.print_params_for('vessel_historical_track')"
   ]
  },
  {
   "cell_type": "code",
   "execution_count": 49,
   "id": "6d7e53a8",
   "metadata": {},
   "outputs": [
    {
     "ename": "AttributeError",
     "evalue": "'Client' object has no attribute '__api_call_method__'",
     "output_type": "error",
     "traceback": [
      "\u001b[0;31m---------------------------------------------------------------------------\u001b[0m",
      "\u001b[0;31mAttributeError\u001b[0m                            Traceback (most recent call last)",
      "Input \u001b[0;32mIn [49]\u001b[0m, in \u001b[0;36m<cell line: 1>\u001b[0;34m()\u001b[0m\n\u001b[0;32m----> 1\u001b[0m response \u001b[38;5;241m=\u001b[39m \u001b[43mapi\u001b[49m\u001b[38;5;241;43m.\u001b[39;49m\u001b[43m__api_call_method__\u001b[49m(protocol\u001b[38;5;241m=\u001b[39m\u001b[38;5;124m'\u001b[39m\u001b[38;5;124mjson\u001b[39m\u001b[38;5;124m'\u001b[39m\u001b[38;5;241m|\u001b[39m\u001b[38;5;124m'\u001b[39m\u001b[38;5;124mjsono\u001b[39m\u001b[38;5;124m'\u001b[39m\u001b[38;5;241m|\u001b[39m\u001b[38;5;124m'\u001b[39m\u001b[38;5;124mcsv\u001b[39m\u001b[38;5;124m'\u001b[39m\u001b[38;5;241m|\u001b[39m\u001b[38;5;124m'\u001b[39m\u001b[38;5;124mxml\u001b[39m\u001b[38;5;124m'\u001b[39m, \u001b[38;5;66;03m# default is jsono\u001b[39;00m\n\u001b[1;32m      2\u001b[0m                                    msg_type\u001b[38;5;241m=\u001b[39m\u001b[38;5;124m'\u001b[39m\u001b[38;5;124msimple\u001b[39m\u001b[38;5;124m'\u001b[39m\u001b[38;5;241m|\u001b[39m\u001b[38;5;124m'\u001b[39m\u001b[38;5;124mextended\u001b[39m\u001b[38;5;124m'\u001b[39m,  \u001b[38;5;66;03m# default is simple\u001b[39;00m\n\u001b[1;32m      3\u001b[0m                                    timeout\u001b[38;5;241m=\u001b[39m\u001b[38;5;241m10\u001b[39m)\n",
      "\u001b[0;31mAttributeError\u001b[0m: 'Client' object has no attribute '__api_call_method__'"
     ]
    }
   ],
   "source": [
    "response = api.__api_call_method__(protocol='json'|'jsono'|'csv'|'xml', # default is jsono\n",
    "                                   msg_type='simple'|'extended',  # default is simple\n",
    "                                   timeout=10) # default is 5 (5 seconds)"
   ]
  },
  {
   "cell_type": "code",
   "execution_count": 1,
   "id": "d2c2a8fb",
   "metadata": {},
   "outputs": [],
   "source": [
    "import sys\n",
    "import importlib\n",
    "import numpy as np\n",
    "import math\n",
    "from math import pi, sin, acos, cos\n",
    "sys.path.insert(0, \"/home/mqueyrel/Documents/SoundInOcean/\")"
   ]
  },
  {
   "cell_type": "code",
   "execution_count": 2,
   "id": "b9bf6769",
   "metadata": {},
   "outputs": [],
   "source": [
    "from population.noise_impactor import NoiseImpactor, Boat, FishingBoat, PileDriving"
   ]
  },
  {
   "cell_type": "code",
   "execution_count": 135,
   "id": "c4707736",
   "metadata": {},
   "outputs": [],
   "source": [
    "maille_TL = compute_decibels_matrix(45.8, -1.8)"
   ]
  },
  {
   "cell_type": "code",
   "execution_count": 137,
   "id": "df7c4192",
   "metadata": {},
   "outputs": [],
   "source": [
    "SLi = compute_SLi(10, 30)"
   ]
  },
  {
   "cell_type": "code",
   "execution_count": 157,
   "id": "3457fa8b",
   "metadata": {},
   "outputs": [],
   "source": [
    "min_longitude = -2.250511\n",
    "max_longitude = -0.802813\n",
    "min_latitude = 45.670575\n",
    "max_latitude = 46.378693\n",
    "\n",
    "range_lat = np.arange(min_latitude, max_latitude, 0.01)\n",
    "range_long = np.arange(min_longitude, max_longitude, 0.0015)"
   ]
  },
  {
   "cell_type": "code",
   "execution_count": null,
   "id": "81952afc",
   "metadata": {},
   "outputs": [],
   "source": []
  },
  {
   "cell_type": "code",
   "execution_count": 184,
   "id": "04b468aa",
   "metadata": {},
   "outputs": [],
   "source": [
    "df_res = pd.DataFrame(RL)\n",
    "df_res.columns = range_long\n",
    "df_res[\"lat\"] = range_lat"
   ]
  },
  {
   "cell_type": "code",
   "execution_count": 185,
   "id": "53a71611",
   "metadata": {},
   "outputs": [],
   "source": [
    "df_res = df_res.melt(id_vars=[\"lat\"], \n",
    "        var_name=\"lon\", \n",
    "        value_name=\"value\")"
   ]
  },
  {
   "cell_type": "code",
   "execution_count": 191,
   "id": "29dd6733",
   "metadata": {},
   "outputs": [
    {
     "data": {
      "text/plain": [
       "array([[ -9.51714265,  -9.51047656,  -9.50382252, ..., -12.28720383,\n",
       "        -12.2949817 , -12.30275736],\n",
       "       [ -9.39966741,  -9.39281716,  -9.38597898, ..., -12.22590068,\n",
       "        -12.23379045, -12.24167779],\n",
       "       [ -9.28109361,  -9.27405231,  -9.26702312, ..., -12.16483549,\n",
       "        -12.17283834, -12.18083851],\n",
       "       ...,\n",
       "       [ -3.69773934,  -3.67191049,  -3.64601403, ..., -10.18136096,\n",
       "        -10.19414097, -10.20690267],\n",
       "       [ -3.78719415,  -3.76188887,  -3.73652043, ..., -10.20222367,\n",
       "        -10.2149448 , -10.22764787],\n",
       "       [ -3.88236199,  -3.85760233,  -3.83278399, ..., -10.22473081,\n",
       "        -10.23738853, -10.25002848]])"
      ]
     },
     "execution_count": 191,
     "metadata": {},
     "output_type": "execute_result"
    }
   ],
   "source": [
    "RL"
   ]
  },
  {
   "cell_type": "code",
   "execution_count": 190,
   "id": "67d00ded",
   "metadata": {},
   "outputs": [
    {
     "data": {
      "text/html": [
       "<div>\n",
       "<style scoped>\n",
       "    .dataframe tbody tr th:only-of-type {\n",
       "        vertical-align: middle;\n",
       "    }\n",
       "\n",
       "    .dataframe tbody tr th {\n",
       "        vertical-align: top;\n",
       "    }\n",
       "\n",
       "    .dataframe thead th {\n",
       "        text-align: right;\n",
       "    }\n",
       "</style>\n",
       "<table border=\"1\" class=\"dataframe\">\n",
       "  <thead>\n",
       "    <tr style=\"text-align: right;\">\n",
       "      <th></th>\n",
       "      <th>lat</th>\n",
       "      <th>lon</th>\n",
       "      <th>value</th>\n",
       "      <th>geometry</th>\n",
       "    </tr>\n",
       "  </thead>\n",
       "  <tbody>\n",
       "    <tr>\n",
       "      <th>0</th>\n",
       "      <td>45.670575</td>\n",
       "      <td>-2.250511</td>\n",
       "      <td>-9.517143</td>\n",
       "      <td>POINT (-2.25051 45.67057)</td>\n",
       "    </tr>\n",
       "    <tr>\n",
       "      <th>1</th>\n",
       "      <td>45.680575</td>\n",
       "      <td>-2.250511</td>\n",
       "      <td>-9.399667</td>\n",
       "      <td>POINT (-2.25051 45.68057)</td>\n",
       "    </tr>\n",
       "    <tr>\n",
       "      <th>2</th>\n",
       "      <td>45.690575</td>\n",
       "      <td>-2.250511</td>\n",
       "      <td>-9.281094</td>\n",
       "      <td>POINT (-2.25051 45.69057)</td>\n",
       "    </tr>\n",
       "    <tr>\n",
       "      <th>3</th>\n",
       "      <td>45.700575</td>\n",
       "      <td>-2.250511</td>\n",
       "      <td>-9.161420</td>\n",
       "      <td>POINT (-2.25051 45.70057)</td>\n",
       "    </tr>\n",
       "    <tr>\n",
       "      <th>4</th>\n",
       "      <td>45.710575</td>\n",
       "      <td>-2.250511</td>\n",
       "      <td>-9.040645</td>\n",
       "      <td>POINT (-2.25051 45.71057)</td>\n",
       "    </tr>\n",
       "    <tr>\n",
       "      <th>...</th>\n",
       "      <td>...</td>\n",
       "      <td>...</td>\n",
       "      <td>...</td>\n",
       "      <td>...</td>\n",
       "    </tr>\n",
       "    <tr>\n",
       "      <th>68581</th>\n",
       "      <td>46.330575</td>\n",
       "      <td>-0.803011</td>\n",
       "      <td>-10.170413</td>\n",
       "      <td>POINT (-0.80301 46.33057)</td>\n",
       "    </tr>\n",
       "    <tr>\n",
       "      <th>68582</th>\n",
       "      <td>46.340575</td>\n",
       "      <td>-0.803011</td>\n",
       "      <td>-10.187817</td>\n",
       "      <td>POINT (-0.80301 46.34057)</td>\n",
       "    </tr>\n",
       "    <tr>\n",
       "      <th>68583</th>\n",
       "      <td>46.350575</td>\n",
       "      <td>-0.803011</td>\n",
       "      <td>-10.206903</td>\n",
       "      <td>POINT (-0.80301 46.35057)</td>\n",
       "    </tr>\n",
       "    <tr>\n",
       "      <th>68584</th>\n",
       "      <td>46.360575</td>\n",
       "      <td>-0.803011</td>\n",
       "      <td>-10.227648</td>\n",
       "      <td>POINT (-0.80301 46.36057)</td>\n",
       "    </tr>\n",
       "    <tr>\n",
       "      <th>68585</th>\n",
       "      <td>46.370575</td>\n",
       "      <td>-0.803011</td>\n",
       "      <td>-10.250028</td>\n",
       "      <td>POINT (-0.80301 46.37057)</td>\n",
       "    </tr>\n",
       "  </tbody>\n",
       "</table>\n",
       "<p>68586 rows × 4 columns</p>\n",
       "</div>"
      ],
      "text/plain": [
       "             lat       lon      value                   geometry\n",
       "0      45.670575 -2.250511  -9.517143  POINT (-2.25051 45.67057)\n",
       "1      45.680575 -2.250511  -9.399667  POINT (-2.25051 45.68057)\n",
       "2      45.690575 -2.250511  -9.281094  POINT (-2.25051 45.69057)\n",
       "3      45.700575 -2.250511  -9.161420  POINT (-2.25051 45.70057)\n",
       "4      45.710575 -2.250511  -9.040645  POINT (-2.25051 45.71057)\n",
       "...          ...       ...        ...                        ...\n",
       "68581  46.330575 -0.803011 -10.170413  POINT (-0.80301 46.33057)\n",
       "68582  46.340575 -0.803011 -10.187817  POINT (-0.80301 46.34057)\n",
       "68583  46.350575 -0.803011 -10.206903  POINT (-0.80301 46.35057)\n",
       "68584  46.360575 -0.803011 -10.227648  POINT (-0.80301 46.36057)\n",
       "68585  46.370575 -0.803011 -10.250028  POINT (-0.80301 46.37057)\n",
       "\n",
       "[68586 rows x 4 columns]"
      ]
     },
     "execution_count": 190,
     "metadata": {},
     "output_type": "execute_result"
    }
   ],
   "source": [
    "df_res"
   ]
  },
  {
   "cell_type": "code",
   "execution_count": 186,
   "id": "33830ca5",
   "metadata": {},
   "outputs": [],
   "source": [
    "import geopandas\n",
    "gdf = geopandas.GeoDataFrame(\n",
    "    df_res, geometry=geopandas.points_from_xy(df_res.lon, df_res.lat))"
   ]
  },
  {
   "cell_type": "code",
   "execution_count": 178,
   "id": "4b0282a0",
   "metadata": {},
   "outputs": [],
   "source": [
    "gdf.to_file(\"../data/heatmap.geojson\", driver=\"GeoJSON\")"
   ]
  },
  {
   "cell_type": "code",
   "execution_count": 189,
   "id": "7de2fa9a",
   "metadata": {},
   "outputs": [
    {
     "data": {
      "text/plain": [
       "<AxesSubplot:>"
      ]
     },
     "execution_count": 189,
     "metadata": {},
     "output_type": "execute_result"
    },
    {
     "data": {
      "image/png": "[encoded data removed]",
      "text/plain": [
       "<Figure size 432x288 with 1 Axes>"
      ]
     },
     "metadata": {
      "needs_background": "light"
     },
     "output_type": "display_data"
    }
   ],
   "source": [
    "gdf.plot()"
   ]
  },
  {
   "cell_type": "code",
   "execution_count": 148,
   "id": "78ce3cd5",
   "metadata": {},
   "outputs": [],
   "source": [
    "RL = update_decibels_matrix_with_speed(maille_TL, SLi, 1)"
   ]
  },
  {
   "cell_type": "code",
   "execution_count": 156,
   "id": "e76d81df",
   "metadata": {},
   "outputs": [
    {
     "data": {
      "text/plain": [
       "array([[ -9.51714265,  -9.51047656,  -9.50382252, ..., -12.28720383,\n",
       "        -12.2949817 , -12.30275736],\n",
       "       [ -9.39966741,  -9.39281716,  -9.38597898, ..., -12.22590068,\n",
       "        -12.23379045, -12.24167779],\n",
       "       [ -9.28109361,  -9.27405231,  -9.26702312, ..., -12.16483549,\n",
       "        -12.17283834, -12.18083851],\n",
       "       ...,\n",
       "       [ -3.69773934,  -3.67191049,  -3.64601403, ..., -10.18136096,\n",
       "        -10.19414097, -10.20690267],\n",
       "       [ -3.78719415,  -3.76188887,  -3.73652043, ..., -10.20222367,\n",
       "        -10.2149448 , -10.22764787],\n",
       "       [ -3.88236199,  -3.85760233,  -3.83278399, ..., -10.22473081,\n",
       "        -10.23738853, -10.25002848]])"
      ]
     },
     "execution_count": 156,
     "metadata": {},
     "output_type": "execute_result"
    }
   ],
   "source": [
    "RL"
   ]
  },
  {
   "cell_type": "code",
   "execution_count": 149,
   "id": "4e8f9530",
   "metadata": {},
   "outputs": [],
   "source": [
    "RL2 = update_decibels_matrix_with_speed(maille_TL, SLi, 2)\n",
    "RL3 = update_decibels_matrix_with_speed(maille_TL, SLi, 3)"
   ]
  },
  {
   "cell_type": "code",
   "execution_count": 150,
   "id": "956df90f",
   "metadata": {},
   "outputs": [],
   "source": [
    "import seaborn"
   ]
  },
  {
   "cell_type": "code",
   "execution_count": 151,
   "id": "f19f6fca",
   "metadata": {},
   "outputs": [
    {
     "data": {
      "text/plain": [
       "<AxesSubplot:>"
      ]
     },
     "execution_count": 151,
     "metadata": {},
     "output_type": "execute_result"
    },
    {
     "data": {
      "image/png": "[encoded data removed]",
      "text/plain": [
       "<Figure size 432x288 with 2 Axes>"
      ]
     },
     "metadata": {
      "needs_background": "light"
     },
     "output_type": "display_data"
    }
   ],
   "source": [
    "seaborn.heatmap(RL)"
   ]
  },
  {
   "cell_type": "code",
   "execution_count": 154,
   "id": "fb1b8b2a",
   "metadata": {},
   "outputs": [
    {
     "data": {
      "text/plain": [
       "array([[ -9.07835925,  -9.01467845,  -8.95191016, ...,   7.13655223,\n",
       "          7.10895515,   7.08161292],\n",
       "       [ -8.06279111,  -8.0098495 ,  -7.95761456, ...,   7.36311468,\n",
       "          7.33302231,   7.30322241],\n",
       "       [ -7.22611661,  -7.18126489,  -7.13697547, ...,   7.60606487,\n",
       "          7.57317412,   7.54062015],\n",
       "       ...,\n",
       "       [ -0.53842187,  -0.5326577 ,  -0.52692164, ..., -26.5060514 ,\n",
       "        -27.45271168, -28.46535103],\n",
       "       [ -0.55872483,  -0.55292731,  -0.54715844, ..., -28.08581163,\n",
       "        -29.14136628, -30.27474882],\n",
       "       [ -0.58092115,  -0.57508575,  -0.56927961, ..., -30.00701024,\n",
       "        -31.20327314, -32.49365657]])"
      ]
     },
     "execution_count": 154,
     "metadata": {},
     "output_type": "execute_result"
    }
   ],
   "source": [
    "RL / RL2"
   ]
  },
  {
   "cell_type": "code",
   "execution_count": 152,
   "id": "c2a25d22",
   "metadata": {},
   "outputs": [
    {
     "data": {
      "text/plain": [
       "<AxesSubplot:>"
      ]
     },
     "execution_count": 152,
     "metadata": {},
     "output_type": "execute_result"
    },
    {
     "data": {
      "image/png": "[encoded data removed]",
      "text/plain": [
       "<Figure size 432x288 with 2 Axes>"
      ]
     },
     "metadata": {
      "needs_background": "light"
     },
     "output_type": "display_data"
    }
   ],
   "source": [
    "seaborn.heatmap(RL2)"
   ]
  },
  {
   "cell_type": "code",
   "execution_count": 153,
   "id": "65be54e4",
   "metadata": {},
   "outputs": [
    {
     "data": {
      "text/plain": [
       "<AxesSubplot:>"
      ]
     },
     "execution_count": 153,
     "metadata": {},
     "output_type": "execute_result"
    },
    {
     "data": {
      "image/png": "[encoded data removed]",
      "text/plain": [
       "<Figure size 432x288 with 2 Axes>"
      ]
     },
     "metadata": {
      "needs_background": "light"
     },
     "output_type": "display_data"
    }
   ],
   "source": [
    "seaborn.heatmap(RL3)"
   ]
  },
  {
   "cell_type": "code",
   "execution_count": null,
   "id": "ff050c17",
   "metadata": {},
   "outputs": [],
   "source": [
    "np.arccos"
   ]
  },
  {
   "cell_type": "code",
   "execution_count": 179,
   "id": "8c74f1f6",
   "metadata": {},
   "outputs": [],
   "source": [
    "fish = geopandas.read_file(\"../data/Fish.geojson\")"
   ]
  },
  {
   "cell_type": "code",
   "execution_count": 180,
   "id": "f258017e",
   "metadata": {},
   "outputs": [
    {
     "data": {
      "text/plain": [
       "<AxesSubplot:>"
      ]
     },
     "execution_count": 180,
     "metadata": {},
     "output_type": "execute_result"
    },
    {
     "data": {
      "image/png": "[encoded data removed]",
      "text/plain": [
       "<Figure size 432x288 with 1 Axes>"
      ]
     },
     "metadata": {
      "needs_background": "light"
     },
     "output_type": "display_data"
    }
   ],
   "source": [
    "fish.plot()"
   ]
  },
  {
   "cell_type": "code",
   "execution_count": 181,
   "id": "559acc51",
   "metadata": {},
   "outputs": [
    {
     "data": {
      "text/html": [
       "<div>\n",
       "<style scoped>\n",
       "    .dataframe tbody tr th:only-of-type {\n",
       "        vertical-align: middle;\n",
       "    }\n",
       "\n",
       "    .dataframe tbody tr th {\n",
       "        vertical-align: top;\n",
       "    }\n",
       "\n",
       "    .dataframe thead th {\n",
       "        text-align: right;\n",
       "    }\n",
       "</style>\n",
       "<table border=\"1\" class=\"dataframe\">\n",
       "  <thead>\n",
       "    <tr style=\"text-align: right;\">\n",
       "      <th></th>\n",
       "      <th>ID</th>\n",
       "      <th>Prob</th>\n",
       "      <th>geometry</th>\n",
       "    </tr>\n",
       "  </thead>\n",
       "  <tbody>\n",
       "    <tr>\n",
       "      <th>0</th>\n",
       "      <td>SC</td>\n",
       "      <td>0.95</td>\n",
       "      <td>MULTIPOLYGON Z (((-3.81791 45.57293 0.00000, -...</td>\n",
       "    </tr>\n",
       "    <tr>\n",
       "      <th>1</th>\n",
       "      <td>SC</td>\n",
       "      <td>0.75</td>\n",
       "      <td>MULTIPOLYGON Z (((-4.49558 46.52497 0.00000, -...</td>\n",
       "    </tr>\n",
       "    <tr>\n",
       "      <th>2</th>\n",
       "      <td>SC</td>\n",
       "      <td>0.50</td>\n",
       "      <td>MULTIPOLYGON Z (((-3.55646 45.68039 0.00000, -...</td>\n",
       "    </tr>\n",
       "  </tbody>\n",
       "</table>\n",
       "</div>"
      ],
      "text/plain": [
       "   ID  Prob                                           geometry\n",
       "0  SC  0.95  MULTIPOLYGON Z (((-3.81791 45.57293 0.00000, -...\n",
       "1  SC  0.75  MULTIPOLYGON Z (((-4.49558 46.52497 0.00000, -...\n",
       "2  SC  0.50  MULTIPOLYGON Z (((-3.55646 45.68039 0.00000, -..."
      ]
     },
     "execution_count": 181,
     "metadata": {},
     "output_type": "execute_result"
    }
   ],
   "source": [
    "fish"
   ]
  },
  {
   "cell_type": "code",
   "execution_count": null,
   "id": "a9b187a2",
   "metadata": {},
   "outputs": [],
   "source": []
  },
  {
   "cell_type": "code",
   "execution_count": 3,
   "id": "83d83548",
   "metadata": {},
   "outputs": [],
   "source": [
    "import sys\n",
    "import importlib\n",
    "import numpy as np\n",
    "import math\n",
    "from math import pi, sin, acos, cos\n",
    "sys.path.insert(0, \"/home/mqueyrel/Documents/SoundInOcean/\")\n",
    "import population\n",
    "importlib.reload(population.noise_impactor)\n",
    "from population.noise_impactor import FishingBoat, Cargo, PileDriving\n",
    "from population.simulator import Simulator\n",
    "import pandas as pd\n",
    "import geopandas\n",
    "import seaborn"
   ]
  },
  {
   "cell_type": "code",
   "execution_count": 45,
   "id": "c7fedae9",
   "metadata": {},
   "outputs": [
    {
     "name": "stdout",
     "output_type": "stream",
     "text": [
      "lat 45.9 long -1.9\n"
     ]
    }
   ],
   "source": [
    "# min_longitude = -2.250511\n",
    "# max_longitude = -0.802813\n",
    "# min_latitude = 45.670575\n",
    "# max_latitude = 46.378693\n",
    "\n",
    "speed = 10\n",
    "lat = 45.9\n",
    "long=-1.9\n",
    "boat1 = FishingBoat(lat=45.70, long=-2.1, speed=10)\n",
    "boat2 = FishingBoat(lat=lat, long=long, speed=speed)\n",
    "boat3 = FishingBoat(lat=46, long=-1.9, speed=10)\n",
    "\n",
    "simu = Simulator(noise_impactors=[boat1, boat2, boat3], marine_fauna_files=None)\n",
    "simu = Simulator(noise_impactors=[boat2], marine_fauna_files=None)\n",
    "\n",
    "hm_total = simu.compute_and_add_heatmaps()\n",
    "\n",
    "\n",
    "hm_total_quantified = hm_total.copy()\n",
    "\n",
    "val_dead = 62\n",
    "val_mean = 55\n",
    "val_zen = 51\n",
    "\n",
    "hm_total_quantified[hm_total_quantified < val_zen] = 0\n",
    "hm_total_quantified[(hm_total_quantified <= val_mean) & (hm_total_quantified >= val_zen)] = 1\n",
    "hm_total_quantified[(hm_total_quantified <= val_dead) & (hm_total_quantified >= val_mean)] = 2\n",
    "hm_total_quantified[hm_total_quantified > val_dead] = 3\n",
    "\n",
    "print(\"lat\", lat, \"long\", long)"
   ]
  },
  {
   "cell_type": "code",
   "execution_count": 40,
   "id": "90b111e5",
   "metadata": {},
   "outputs": [
    {
     "data": {
      "text/plain": [
       "<AxesSubplot:>"
      ]
     },
     "execution_count": 40,
     "metadata": {},
     "output_type": "execute_result"
    },
    {
     "data": {
      "image/png": "[encoded data removed]",
      "text/plain": [
       "<Figure size 432x288 with 2 Axes>"
      ]
     },
     "metadata": {
      "needs_background": "light"
     },
     "output_type": "display_data"
    }
   ],
   "source": [
    "seaborn.heatmap(hm_total)"
   ]
  },
  {
   "cell_type": "code",
   "execution_count": 41,
   "id": "fb5d79ac",
   "metadata": {},
   "outputs": [
    {
     "data": {
      "text/plain": [
       "<AxesSubplot:>"
      ]
     },
     "execution_count": 41,
     "metadata": {},
     "output_type": "execute_result"
    },
    {
     "data": {
      "image/png": "[encoded data removed]",
      "text/plain": [
       "<Figure size 432x288 with 2 Axes>"
      ]
     },
     "metadata": {
      "needs_background": "light"
     },
     "output_type": "display_data"
    }
   ],
   "source": [
    "seaborn.heatmap(hm_total_quantified[::-1])"
   ]
  },
  {
   "cell_type": "code",
   "execution_count": 42,
   "id": "f41ff774",
   "metadata": {},
   "outputs": [],
   "source": [
    "# df_res = pd.DataFrame(hm_total)\n",
    "# df_res.columns = boat1.range_long\n",
    "# df_res[\"lat\"] = boat1.range_lat\n",
    "# df_res = df_res.melt(id_vars=[\"lat\"], \n",
    "#         var_name=\"lon\", \n",
    "#         value_name=\"value\")\n",
    "\n",
    "# gdf = geopandas.GeoDataFrame(\n",
    "#     df_res, geometry=geopandas.points_from_xy(df_res.lon, df_res.lat))\n",
    "\n",
    "# gdf.to_file(\"../data/decibels.geojson\", driver=\"GeoJSON\")"
   ]
  },
  {
   "cell_type": "code",
   "execution_count": 43,
   "id": "c422dcef",
   "metadata": {},
   "outputs": [],
   "source": [
    "df_res = pd.DataFrame(hm_total_quantified[::-1])\n",
    "df_res.columns = boat1.range_long\n",
    "df_res[\"lat\"] = boat1.range_lat\n",
    "df_res = df_res.melt(id_vars=[\"lat\"], \n",
    "        var_name=\"lon\", \n",
    "        value_name=\"value\")\n",
    "\n",
    "gdf = geopandas.GeoDataFrame(\n",
    "    df_res, geometry=geopandas.points_from_xy(df_res.lon, df_res.lat))"
   ]
  },
  {
   "cell_type": "code",
   "execution_count": 102,
   "id": "8b008f62",
   "metadata": {},
   "outputs": [
    {
     "data": {
      "text/html": [
       "<div>\n",
       "<style scoped>\n",
       "    .dataframe tbody tr th:only-of-type {\n",
       "        vertical-align: middle;\n",
       "    }\n",
       "\n",
       "    .dataframe tbody tr th {\n",
       "        vertical-align: top;\n",
       "    }\n",
       "\n",
       "    .dataframe thead th {\n",
       "        text-align: right;\n",
       "    }\n",
       "</style>\n",
       "<table border=\"1\" class=\"dataframe\">\n",
       "  <thead>\n",
       "    <tr style=\"text-align: right;\">\n",
       "      <th></th>\n",
       "      <th>lat</th>\n",
       "      <th>lon</th>\n",
       "      <th>value</th>\n",
       "      <th>geometry</th>\n",
       "    </tr>\n",
       "  </thead>\n",
       "  <tbody>\n",
       "    <tr>\n",
       "      <th>0</th>\n",
       "      <td>45.670575</td>\n",
       "      <td>-2.250511</td>\n",
       "      <td>0.0</td>\n",
       "      <td>POINT (-2.25051 45.67057)</td>\n",
       "    </tr>\n",
       "    <tr>\n",
       "      <th>1</th>\n",
       "      <td>45.690575</td>\n",
       "      <td>-2.250511</td>\n",
       "      <td>0.0</td>\n",
       "      <td>POINT (-2.25051 45.69058)</td>\n",
       "    </tr>\n",
       "    <tr>\n",
       "      <th>2</th>\n",
       "      <td>45.710575</td>\n",
       "      <td>-2.250511</td>\n",
       "      <td>0.0</td>\n",
       "      <td>POINT (-2.25051 45.71058)</td>\n",
       "    </tr>\n",
       "    <tr>\n",
       "      <th>3</th>\n",
       "      <td>45.730575</td>\n",
       "      <td>-2.250511</td>\n",
       "      <td>0.0</td>\n",
       "      <td>POINT (-2.25051 45.73058)</td>\n",
       "    </tr>\n",
       "    <tr>\n",
       "      <th>4</th>\n",
       "      <td>45.750575</td>\n",
       "      <td>-2.250511</td>\n",
       "      <td>0.0</td>\n",
       "      <td>POINT (-2.25051 45.75058)</td>\n",
       "    </tr>\n",
       "    <tr>\n",
       "      <th>...</th>\n",
       "      <td>...</td>\n",
       "      <td>...</td>\n",
       "      <td>...</td>\n",
       "      <td>...</td>\n",
       "    </tr>\n",
       "    <tr>\n",
       "      <th>17383</th>\n",
       "      <td>46.290575</td>\n",
       "      <td>-0.804511</td>\n",
       "      <td>0.0</td>\n",
       "      <td>POINT (-0.80451 46.29058)</td>\n",
       "    </tr>\n",
       "    <tr>\n",
       "      <th>17384</th>\n",
       "      <td>46.310575</td>\n",
       "      <td>-0.804511</td>\n",
       "      <td>0.0</td>\n",
       "      <td>POINT (-0.80451 46.31058)</td>\n",
       "    </tr>\n",
       "    <tr>\n",
       "      <th>17385</th>\n",
       "      <td>46.330575</td>\n",
       "      <td>-0.804511</td>\n",
       "      <td>0.0</td>\n",
       "      <td>POINT (-0.80451 46.33058)</td>\n",
       "    </tr>\n",
       "    <tr>\n",
       "      <th>17386</th>\n",
       "      <td>46.350575</td>\n",
       "      <td>-0.804511</td>\n",
       "      <td>0.0</td>\n",
       "      <td>POINT (-0.80451 46.35058)</td>\n",
       "    </tr>\n",
       "    <tr>\n",
       "      <th>17387</th>\n",
       "      <td>46.370575</td>\n",
       "      <td>-0.804511</td>\n",
       "      <td>0.0</td>\n",
       "      <td>POINT (-0.80451 46.37058)</td>\n",
       "    </tr>\n",
       "  </tbody>\n",
       "</table>\n",
       "<p>17388 rows × 4 columns</p>\n",
       "</div>"
      ],
      "text/plain": [
       "             lat       lon  value                   geometry\n",
       "0      45.670575 -2.250511    0.0  POINT (-2.25051 45.67057)\n",
       "1      45.690575 -2.250511    0.0  POINT (-2.25051 45.69058)\n",
       "2      45.710575 -2.250511    0.0  POINT (-2.25051 45.71058)\n",
       "3      45.730575 -2.250511    0.0  POINT (-2.25051 45.73058)\n",
       "4      45.750575 -2.250511    0.0  POINT (-2.25051 45.75058)\n",
       "...          ...       ...    ...                        ...\n",
       "17383  46.290575 -0.804511    0.0  POINT (-0.80451 46.29058)\n",
       "17384  46.310575 -0.804511    0.0  POINT (-0.80451 46.31058)\n",
       "17385  46.330575 -0.804511    0.0  POINT (-0.80451 46.33058)\n",
       "17386  46.350575 -0.804511    0.0  POINT (-0.80451 46.35058)\n",
       "17387  46.370575 -0.804511    0.0  POINT (-0.80451 46.37058)\n",
       "\n",
       "[17388 rows x 4 columns]"
      ]
     },
     "execution_count": 102,
     "metadata": {},
     "output_type": "execute_result"
    }
   ],
   "source": [
    "gdf.to_file(\"../data/decibels_quantified.geojson\", driver=\"GeoJSON\")"
   ]
  },
  {
   "cell_type": "code",
   "execution_count": 44,
   "id": "87ae06de",
   "metadata": {},
   "outputs": [],
   "source": [
    "gdf[gdf[\"value\"].isin([1,2,3])].to_file(f\"../data/safe_zone_{speed}_noeuds.geojson\", driver=\"GeoJSON\")\n",
    "gdf[gdf[\"value\"].isin([2,3])].to_file(f\"../data/hurt_zone_{speed}_noeuds.geojson\", driver=\"GeoJSON\")\n",
    "gdf[gdf[\"value\"] == 3].to_file(f\"../data/dead_zone_{speed}_noeuds.geojson\", driver=\"GeoJSON\")"
   ]
  },
  {
   "cell_type": "code",
   "execution_count": 145,
   "id": "12d05896",
   "metadata": {},
   "outputs": [],
   "source": [
    "gdf[gdf[\"value\"] == 1].to_file(\"../data/safe_zone_hole.geojson\", driver=\"GeoJSON\")\n",
    "gdf[gdf[\"value\"] == 2].to_file(\"../data/hurt_zone_hole.geojson\", driver=\"GeoJSON\")"
   ]
  }
 ],
 "metadata": {
  "kernelspec": {
   "display_name": "Python 3 (ipykernel)",
   "language": "python",
   "name": "python3"
  },
  "language_info": {
   "codemirror_mode": {
    "name": "ipython",
    "version": 3
   },
   "file_extension": ".py",
   "mimetype": "text/x-python",
   "name": "python",
   "nbconvert_exporter": "python",
   "pygments_lexer": "ipython3",
   "version": "3.9.12"
  }
 },
 "nbformat": 4,
 "nbformat_minor": 5
}
