{
 "cells": [
  {
   "cell_type": "code",
   "execution_count": 1,
   "id": "83d83548",
   "metadata": {},
   "outputs": [],
   "source": [
    "import sys\n",
    "import importlib\n",
    "import pandas as pd\n",
    "import geopandas\n",
    "import seaborn\n",
    "sys.path.insert(0, \"/home/mqueyrel/Documents/deseabel/deseabel/ocean_ecosystem\")\n",
    "import noise_impactor\n",
    "importlib.reload(noise_impactor)\n",
    "from noise_impactor import FishingBoat, Cargo, PileDriving\n",
    "from simulator import Simulator\n",
    "from marine_fauna import Fish"
   ]
  },
  {
   "cell_type": "code",
   "execution_count": 2,
   "id": "fc97f165",
   "metadata": {},
   "outputs": [],
   "source": [
    "boat1 = FishingBoat(lat=45.70, lon=-2.1, speed=5)\n",
    "boat2 = FishingBoat(lat=45.85, lon=-1.75, speed=10)\n",
    "boat3 = FishingBoat(lat=46, lon=-1.9, speed=7)\n",
    "\n",
    "fish = Fish(\"../../data/fish.geojson\")\n",
    "simu = Simulator(list_noise_impactor=[boat1, boat2, boat3], list_marine_fauna=[fish])"
   ]
  },
  {
   "cell_type": "code",
   "execution_count": null,
   "id": "7a0c55a5",
   "metadata": {},
   "outputs": [],
   "source": [
    "simu.compute_marine_fauna_impact(\"fish\")"
   ]
  },
  {
   "cell_type": "code",
   "execution_count": 3,
   "id": "0cf5ee8f",
   "metadata": {},
   "outputs": [],
   "source": [
    "simu.update_matrix_decibels_quantified(fish)"
   ]
  },
  {
   "cell_type": "code",
   "execution_count": 7,
   "id": "f3bd8274",
   "metadata": {},
   "outputs": [
    {
     "data": {
      "text/html": [
       "<div>\n",
       "<style scoped>\n",
       "    .dataframe tbody tr th:only-of-type {\n",
       "        vertical-align: middle;\n",
       "    }\n",
       "\n",
       "    .dataframe tbody tr th {\n",
       "        vertical-align: top;\n",
       "    }\n",
       "\n",
       "    .dataframe thead th {\n",
       "        text-align: right;\n",
       "    }\n",
       "</style>\n",
       "<table border=\"1\" class=\"dataframe\">\n",
       "  <thead>\n",
       "    <tr style=\"text-align: right;\">\n",
       "      <th></th>\n",
       "      <th>geometry</th>\n",
       "      <th>ID</th>\n",
       "      <th>Prob</th>\n",
       "    </tr>\n",
       "  </thead>\n",
       "  <tbody>\n",
       "    <tr>\n",
       "      <th>0</th>\n",
       "      <td>MULTIPOLYGON Z (((-4.79999 46.37583 0.00000, -...</td>\n",
       "      <td>SC</td>\n",
       "      <td>0.95</td>\n",
       "    </tr>\n",
       "  </tbody>\n",
       "</table>\n",
       "</div>"
      ],
      "text/plain": [
       "                                            geometry  ID  Prob\n",
       "0  MULTIPOLYGON Z (((-4.79999 46.37583 0.00000, -...  SC  0.95"
      ]
     },
     "execution_count": 7,
     "metadata": {},
     "output_type": "execute_result"
    }
   ],
   "source": [
    "fish.spot_gpd"
   ]
  },
  {
   "cell_type": "code",
   "execution_count": 8,
   "id": "7f3a034e",
   "metadata": {},
   "outputs": [
    {
     "ename": "TypeError",
     "evalue": "sjoin() got multiple values for argument 'left_df'",
     "output_type": "error",
     "traceback": [
      "\u001b[0;31m---------------------------------------------------------------------------\u001b[0m",
      "\u001b[0;31mTypeError\u001b[0m                                 Traceback (most recent call last)",
      "\u001b[0;32m/tmp/ipykernel_30370/1681273991.py\u001b[0m in \u001b[0;36m<module>\u001b[0;34m\u001b[0m\n\u001b[0;32m----> 1\u001b[0;31m \u001b[0mwithin_points\u001b[0m \u001b[0;34m=\u001b[0m \u001b[0mfish\u001b[0m\u001b[0;34m.\u001b[0m\u001b[0mspot_gpd\u001b[0m\u001b[0;34m.\u001b[0m\u001b[0msjoin\u001b[0m\u001b[0;34m(\u001b[0m\u001b[0msimu\u001b[0m\u001b[0;34m.\u001b[0m\u001b[0mmatrix_decibels_quantified_gpd\u001b[0m\u001b[0;34m,\u001b[0m \u001b[0mmap\u001b[0m\u001b[0;34m,\u001b[0m \u001b[0mop\u001b[0m \u001b[0;34m=\u001b[0m \u001b[0;34m'within'\u001b[0m\u001b[0;34m)\u001b[0m\u001b[0;34m\u001b[0m\u001b[0;34m\u001b[0m\u001b[0m\n\u001b[0m",
      "\u001b[0;32m~/anaconda3/lib/python3.9/site-packages/geopandas/geodataframe.py\u001b[0m in \u001b[0;36msjoin\u001b[0;34m(self, df, *args, **kwargs)\u001b[0m\n\u001b[1;32m   2059\u001b[0m         \u001b[0msjoin\u001b[0m \u001b[0;34m:\u001b[0m \u001b[0mequivalent\u001b[0m \u001b[0mtop\u001b[0m\u001b[0;34m-\u001b[0m\u001b[0mlevel\u001b[0m \u001b[0mfunction\u001b[0m\u001b[0;34m\u001b[0m\u001b[0;34m\u001b[0m\u001b[0m\n\u001b[1;32m   2060\u001b[0m         \"\"\"\n\u001b[0;32m-> 2061\u001b[0;31m         \u001b[0;32mreturn\u001b[0m \u001b[0mgeopandas\u001b[0m\u001b[0;34m.\u001b[0m\u001b[0msjoin\u001b[0m\u001b[0;34m(\u001b[0m\u001b[0mleft_df\u001b[0m\u001b[0;34m=\u001b[0m\u001b[0mself\u001b[0m\u001b[0;34m,\u001b[0m \u001b[0mright_df\u001b[0m\u001b[0;34m=\u001b[0m\u001b[0mdf\u001b[0m\u001b[0;34m,\u001b[0m \u001b[0;34m*\u001b[0m\u001b[0margs\u001b[0m\u001b[0;34m,\u001b[0m \u001b[0;34m**\u001b[0m\u001b[0mkwargs\u001b[0m\u001b[0;34m)\u001b[0m\u001b[0;34m\u001b[0m\u001b[0;34m\u001b[0m\u001b[0m\n\u001b[0m\u001b[1;32m   2062\u001b[0m \u001b[0;34m\u001b[0m\u001b[0m\n\u001b[1;32m   2063\u001b[0m     def sjoin_nearest(\n",
      "\u001b[0;31mTypeError\u001b[0m: sjoin() got multiple values for argument 'left_df'"
     ]
    }
   ],
   "source": [
    "within_points = fish.spot_gpd.sjoin(simu.matrix_decibels_quantified_gpd, map, op = 'within')"
   ]
  },
  {
   "cell_type": "code",
   "execution_count": null,
   "id": "c4f24a6e",
   "metadata": {},
   "outputs": [],
   "source": [
    "mask = simu.matrix_decibels_quantified_gpd.within(marine_fauna.spot_gpd.geometry[0])"
   ]
  },
  {
   "cell_type": "code",
   "execution_count": null,
   "id": "121ab148",
   "metadata": {},
   "outputs": [],
   "source": [
    "matrix_decibels_impact_gpd = self.matrix_decibels_quantified_gpd[mask]\n",
    "dict_impact = matrix_decibels_impact_gpd[\"value\"].value_counts().to_dict()\n",
    "array_impact = np.zeros(marine_fauna.array_impact.shape[0])\n",
    "for level in range(len(array_impact)):\n",
    "    array_impact[level] = 0 if level not in dict_impact else dict_impact[level]\n",
    "array_impact = array_impact / array_impact.sum()\n",
    "marine_fauna.set_array_impact(array_impact)"
   ]
  },
  {
   "cell_type": "code",
   "execution_count": null,
   "id": "4505d871",
   "metadata": {},
   "outputs": [],
   "source": [
    "fish.array_impact"
   ]
  },
  {
   "cell_type": "code",
   "execution_count": null,
   "id": "cfce6e7d",
   "metadata": {},
   "outputs": [],
   "source": [
    "boat1.speed = 20"
   ]
  },
  {
   "cell_type": "code",
   "execution_count": null,
   "id": "bf05441b",
   "metadata": {},
   "outputs": [],
   "source": [
    "boat1.compute_sound_level()"
   ]
  },
  {
   "cell_type": "code",
   "execution_count": null,
   "id": "2d72028f",
   "metadata": {},
   "outputs": [],
   "source": [
    "seaborn.heatmap(simu.matrix_decibels)"
   ]
  },
  {
   "cell_type": "code",
   "execution_count": null,
   "id": "48ab7770",
   "metadata": {},
   "outputs": [],
   "source": [
    "\"\"\"\n",
    "Source level: the amount of sound radiated by a sound source. \n",
    "It is defined as the intensity of the radiated sound at a distance\n",
    "of 1 meter from the source, where intensity is the amount of sound\n",
    "power transmitted through a unit area in a specified direction. \n",
    "Source level is given as a relative intensity in units named \n",
    "decibels (dB). In underwater sound, decibels are referenced to a \n",
    "pressure of 1 microPascal (µPa). Therefore, source level is reported\n",
    "in units of dB re 1 µPa @ 1 m.\n",
    "\n",
    "transmission loss: the decrease in acoustic intensity (due to \n",
    "spreading and/or attenuation) as an underwater sound wave propagates\n",
    "outwards from a source.\n",
    "\n",
    "sound spreading loss: the decrease in intensity that occurs when a\n",
    "sound wave expands as it moves away from a source\n",
    "\n",
    "attenuation: the decrease in the intensity of a wave due to the loss\n",
    "of acoustic energy to heat energy\n",
    "\n",
    "target strength: the amount of sound reflected back toward a sonar \n",
    "by a target.\n",
    "\n",
    "bandwidth: the frequency span of a signal, calculated as the \n",
    "difference between the highest frequency of a signal and the lowest \n",
    "frequency of a signal.\n",
    "\n",
    "\"\"\""
   ]
  },
  {
   "cell_type": "code",
   "execution_count": null,
   "id": "419b171f",
   "metadata": {},
   "outputs": [],
   "source": [
    "# array_gain = 20 dB\n",
    "AG = 20\n",
    "# Typical operating parameters for such a sonar might be\n",
    "# source level = 220 dB re 1 µPa at 1 m\n",
    "SL = 220"
   ]
  },
  {
   "cell_type": "code",
   "execution_count": null,
   "id": "669dab5f",
   "metadata": {},
   "outputs": [],
   "source": [
    "# Spreading loss (dB) = 20 log R = 20 log (10,000) = 80 dB\n",
    "R = 10000\n",
    "spreading_loss = 20 * np.log10(R)\n",
    "# Attenuation (dB) = αR = (0.5 dB/km x 10 km) = 5 dB\n",
    "# aplha = 0.5 dB/km at a frequency of 8,000 Hz\n",
    "alpha = 0.5\n",
    "attenuation = alpha * (R * 1e-3)"
   ]
  },
  {
   "cell_type": "code",
   "execution_count": null,
   "id": "57a426d8",
   "metadata": {},
   "outputs": [],
   "source": [
    "# transmission loss = spreading_loss + attenuation = 80 + 5 = 85 dB\n",
    "TL = spreading_loss + attenuation"
   ]
  },
  {
   "cell_type": "code",
   "execution_count": null,
   "id": "a72dc14b",
   "metadata": {},
   "outputs": [],
   "source": [
    "# target strength for a submarine, as measured broadside to the\n",
    "# submarine, vary widely, but a typical number is 25 dB\n",
    "TS = 25"
   ]
  },
  {
   "cell_type": "code",
   "execution_count": null,
   "id": "3e2d0982",
   "metadata": {},
   "outputs": [],
   "source": [
    "# For a destroyer traveling at 15 knots, a typical self-noise level\n",
    "# in a 1 Hertz wide frequency band at 8,000 Hz might be :\n",
    "# noise level = 63 dB re 1 μPa/√Hz\n",
    "NL = 63"
   ]
  },
  {
   "cell_type": "code",
   "execution_count": null,
   "id": "428a2cbb",
   "metadata": {},
   "outputs": [],
   "source": [
    "# bandwidth (Hz) = 1 / T where T is the sonar pulse length in seconds.\n",
    "# For this example we assume that the sonar transmits a 0.1 second long pulse.\n",
    "T = 0.1\n",
    "BW = 1 / T\n",
    "# NLtotal (dB re 1 µPa) = noise_level + 10 log bandwidth\n",
    "NL_total = NL + 10 * np.log10(BW)"
   ]
  },
  {
   "cell_type": "code",
   "execution_count": null,
   "id": "b44848ae",
   "metadata": {},
   "outputs": [],
   "source": [
    "# signal_to_noise = source_level - 2 * transmission_loss + target_strength - (noise_level - array_gain)\n",
    "SNR = SL - 2 * TL + TS - (NL - AG)"
   ]
  },
  {
   "cell_type": "code",
   "execution_count": null,
   "id": "e6e12686",
   "metadata": {},
   "outputs": [],
   "source": [
    "SNR"
   ]
  },
  {
   "cell_type": "code",
   "execution_count": null,
   "id": "c5fdfed1",
   "metadata": {},
   "outputs": [],
   "source": []
  }
 ],
 "metadata": {
  "kernelspec": {
   "display_name": "Python 3 (ipykernel)",
   "language": "python",
   "name": "python3"
  },
  "language_info": {
   "codemirror_mode": {
    "name": "ipython",
    "version": 3
   },
   "file_extension": ".py",
   "mimetype": "text/x-python",
   "name": "python",
   "nbconvert_exporter": "python",
   "pygments_lexer": "ipython3",
   "version": "3.9.12"
  }
 },
 "nbformat": 4,
 "nbformat_minor": 5
}
